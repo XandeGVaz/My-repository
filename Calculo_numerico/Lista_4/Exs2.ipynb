{
 "cells": [
  {
   "cell_type": "markdown",
   "metadata": {},
   "source": [
    "# <font color='gren'>Exercício 2"
   ]
  },
  {
   "cell_type": "markdown",
   "metadata": {},
   "source": [
    "## **1-Imports Necessários**"
   ]
  },
  {
   "cell_type": "code",
   "execution_count": 128,
   "metadata": {},
   "outputs": [],
   "source": [
    "import numpy as np\n",
    "from numpy import random\n",
    "\n",
    "import scipy\n",
    "from scipy import linalg\n",
    "from scipy.sparse import diags, linalg\n",
    "\n",
    "import matplotlib.pylab as plt\n",
    "from mpl_toolkits import mplot3d\n",
    "from matplotlib import cm\n",
    "\n",
    "import time\n",
    "\n",
    "import random"
   ]
  },
  {
   "cell_type": "markdown",
   "metadata": {},
   "source": [
    "## **2-Funções auxiliares**"
   ]
  },
  {
   "cell_type": "markdown",
   "metadata": {},
   "source": [
    "* Função para plotar os curvas de nível constante de temperatura"
   ]
  },
  {
   "cell_type": "code",
   "execution_count": 129,
   "metadata": {},
   "outputs": [],
   "source": [
    "\n",
    "def PlotaMembrane(N1,N2,L1,L2,W):\n",
    "    x = np.linspace(0, L1, N1)\n",
    "    y = np.linspace(0, L2, N2)\n",
    "    X,Y=np.meshgrid(x,y)\n",
    "    Z = np.copy(W)\n",
    "    fig, ax = plt.subplots()\n",
    "    ax.set_aspect('equal')\n",
    "    ax.set(xlabel='x', ylabel='y', title='Deslocamento vertical')\n",
    "    im = ax.contourf(X, Y, Z, 20)\n",
    "    im2 = ax.contour(X, Y, Z, 20, linewidths=0.25, colors='k')\n",
    "    fig.colorbar(im, ax=ax)\n",
    "    plt.show()\n",
    "    \n",
    "def PlotaSurface(N1,N2,L1,L2,W):\n",
    "    x = np.linspace(0, L1, N1)\n",
    "    y = np.linspace(0, L2, N2)\n",
    "    X,Y=np.meshgrid(x,y)\n",
    "    Z = np.copy(W)\n",
    "    ax = plt.axes(projection ='3d')\n",
    "    ax.plot_surface(X, Y, Z,cmap='viridis', edgecolor='none')\n",
    "    ax.set(xlabel='x', ylabel='y', title='Deslocamento vertical')\n",
    "    ax.set_zlim(-1.01, 1.01)\n",
    "    ax.plot_surface(X, Y, Z, cmap=cm.coolwarm,linewidth=0, antialiased=False)\n",
    "    "
   ]
  },
  {
   "cell_type": "markdown",
   "metadata": {},
   "source": [
    "* Montagem das matrizes K e M"
   ]
  },
  {
   "cell_type": "code",
   "execution_count": 130,
   "metadata": {},
   "outputs": [],
   "source": [
    "def ij2n (i, j, N):\n",
    "    return i + j*N\n",
    "\n",
    "def BuildMatrizesEigen(N1, N2, sigma, rho, e, delta):\n",
    "    nunk = N1*N2\n",
    "\n",
    "    # Stiffness matrix K: Build it as a sparse matrix \n",
    "    d1 = 4.0*np.ones(nunk)\n",
    "    d2 = -np.ones(nunk-1)\n",
    "    d3 = -np.ones(nunk-N1)\n",
    "    K = (sigma/delta**2)*scipy.sparse.diags([d3, d2, d1, d2, d3], [-N1, -1, 0, 1, N1], format='csr')\n",
    "\n",
    "    # Force the eigenvalues associated to boundary points \n",
    "    # to be a big number as compared to fundamental modes\n",
    "    big_number = 10000\n",
    "    Iden = big_number*scipy.sparse.identity(nunk, format='csr')\n",
    "\n",
    "    # Lados verticais\n",
    "    for k in range(0,N2):\n",
    "        Ic = ij2n(0,k,N1) # Left\n",
    "        K[Ic,:], K[:,Ic] = Iden[Ic,:], Iden[:,Ic]\n",
    "\n",
    "        Ic = ij2n(N1-1,k,N1) # Right\n",
    "        K[Ic,:], K[:,Ic] = Iden[Ic,:], Iden[:,Ic]\n",
    "        \n",
    "    # Lados horizontais\n",
    "    for k in range(0,N1):\n",
    "        Ic = ij2n(k,0,N1) # Bottom\n",
    "        K[Ic,:], K[:,Ic] = Iden[Ic,:], Iden[:,Ic]\n",
    "\n",
    "        Ic = ij2n(k,N2-1,N1) # Top\n",
    "        K[Ic,:], K[:,Ic] = Iden[Ic,:], Iden[:,Ic]\n",
    "\n",
    "    # Mass matrix: Simple case, multiple of identity\n",
    "    M = rho*e*scipy.sparse.identity(nunk, format='csr')\n",
    "    \n",
    "    return K, M    "
   ]
  },
  {
   "cell_type": "markdown",
   "metadata": {},
   "source": [
    "## **3-Método Iterativo de Francis**"
   ]
  },
  {
   "cell_type": "code",
   "execution_count": 131,
   "metadata": {},
   "outputs": [],
   "source": [
    "#   Função que encontra o maior elemento da matriz fora sua diagonal (i!=j)\n",
    "def return_error(M):\n",
    "    m=M\n",
    "    np.fill_diagonal(m,0)\n",
    "    m=np.absolute(m)\n",
    "    e=m.max()\n",
    "    return e\n",
    "\n",
    "#   Função do método iterativo de Francis que retorna a matriz D de autovalores na diagonal e a matriz de autovetores Q\n",
    "#com base em um erro ou um número máximo de iterações\n",
    "def francis_metod(A,tol,T_max):\n",
    "    Dold=A #Primeiro chute: D=A\n",
    "    Dnew=Dold\n",
    "    Vold=np.identity(len(A[0]))\n",
    "    Vnew=Vold\n",
    "    e,k=1,0\n",
    "    while(e>tol and k<T_max):\n",
    "        Q,R=scipy.linalg.qr(Dold)\n",
    "        Dnew=np.matmul(R,Q)\n",
    "        Vnew=np.matmul(Vold,Q)\n",
    "        e=return_error(Dold) #while acabará quando o maior valor for muito próximo de zero ou as tentativas se esgotarem\n",
    "        k+=1\n",
    "        Dold=Dnew\n",
    "        Vold=Vnew\n",
    "    return Dold.diagonal(), Vold"
   ]
  },
  {
   "cell_type": "markdown",
   "metadata": {},
   "source": [
    "## **4-Verificação de funcionamento**"
   ]
  },
  {
   "cell_type": "code",
   "execution_count": 132,
   "metadata": {},
   "outputs": [],
   "source": [
    "#Pré-setagem\n",
    "tol=10**(-8)\n",
    "T_max=100000\n",
    "\n",
    "A=np.array([[3,2,4],[2,0,2],[4,2,3]])\n",
    "I=np.identity(3)"
   ]
  },
  {
   "cell_type": "markdown",
   "metadata": {},
   "source": [
    "* Usando Francis"
   ]
  },
  {
   "cell_type": "code",
   "execution_count": 133,
   "metadata": {},
   "outputs": [
    {
     "name": "stdout",
     "output_type": "stream",
     "text": [
      "Lam= [ 8. -1. -1.]\n",
      "Q= [[-6.66666667e-01  4.47213596e-01 -5.96284794e-01]\n",
      " [-3.33333333e-01 -8.94427191e-01 -2.98142397e-01]\n",
      " [-6.66666667e-01  5.20652830e-11  7.45355992e-01]]\n"
     ]
    }
   ],
   "source": [
    "Lam,Q=francis_metod(A,10**(-8),10000)\n",
    "print('Lam=',Lam)\n",
    "print('Q=',Q)"
   ]
  },
  {
   "cell_type": "markdown",
   "metadata": {},
   "source": [
    "* Usando scipy para matrizes siméticas"
   ]
  },
  {
   "cell_type": "code",
   "execution_count": 134,
   "metadata": {},
   "outputs": [
    {
     "name": "stdout",
     "output_type": "stream",
     "text": [
      "Lam= [-4.         -1.46410162  5.46410162]\n",
      "Q= [[ 7.07106781e-01  3.25057584e-01 -6.27963030e-01]\n",
      " [-1.11022302e-16 -8.88073834e-01 -4.59700843e-01]\n",
      " [-7.07106781e-01  3.25057584e-01 -6.27963030e-01]]\n"
     ]
    }
   ],
   "source": [
    "\n",
    "Lam,Q=scipy.linalg.eigh(A,I)\n",
    "print('Lam=',Lam)\n",
    "print('Q=',Q)"
   ]
  },
  {
   "cell_type": "markdown",
   "metadata": {},
   "source": [
    "* Usando schipy para matrizes não simétricas"
   ]
  },
  {
   "cell_type": "code",
   "execution_count": 135,
   "metadata": {},
   "outputs": [
    {
     "name": "stdout",
     "output_type": "stream",
     "text": [
      "Lam= [ 5.46410162+0.j -4.        +0.j -1.46410162+0.j]\n",
      "Q= [[ 6.27963030e-01 -7.07106781e-01  3.25057584e-01]\n",
      " [ 4.59700843e-01 -8.21308123e-17 -8.88073834e-01]\n",
      " [ 6.27963030e-01  7.07106781e-01  3.25057584e-01]]\n"
     ]
    }
   ],
   "source": [
    "Lam,Q=scipy.linalg.eig(A,I)\n",
    "print('Lam=',Lam)\n",
    "print('Q=',Q)"
   ]
  },
  {
   "cell_type": "markdown",
   "metadata": {},
   "source": [
    "## **5-Resultados**"
   ]
  },
  {
   "cell_type": "code",
   "execution_count": 136,
   "metadata": {},
   "outputs": [
    {
     "name": "stdout",
     "output_type": "stream",
     "text": [
      "A= [[-35.47706105  19.94582297   5.97086891  16.18260514  -7.77300646]\n",
      " [-56.28036522  31.13720861   9.46200089  23.68076973 -10.33916844]\n",
      " [-36.26193108  17.15135063  10.15286902  15.00995241  -6.36363643]\n",
      " [-23.95628625  14.33808241   2.38008196  12.92206445  -6.13263847]\n",
      " [-38.90187963  19.29009074   7.25731536  15.67627104  -3.73508102]]\n",
      "Lam= [1.+0.j 2.+0.j 3.+0.j 4.+0.j 5.+0.j]\n"
     ]
    }
   ],
   "source": [
    "n=5\n",
    "\n",
    "D=np.zeros(shape=(n,n))\n",
    "\n",
    "for i in range(n):\n",
    "    for j in range(n):\n",
    "        if(i==j):\n",
    "            D[i][j]=i+1\n",
    "\n",
    "Q=np.random.rand(n,n)\n",
    "A=(Q@D)@np.linalg.inv(Q)\n",
    "\n",
    "Lam,Q=scipy.linalg.eig(A,np.identity(n))\n",
    "print('A=',A)\n",
    "print('Lam=',Lam)"
   ]
  }
 ],
 "metadata": {
  "kernelspec": {
   "display_name": "Python 3",
   "language": "python",
   "name": "python3"
  },
  "language_info": {
   "codemirror_mode": {
    "name": "ipython",
    "version": 3
   },
   "file_extension": ".py",
   "mimetype": "text/x-python",
   "name": "python",
   "nbconvert_exporter": "python",
   "pygments_lexer": "ipython3",
   "version": "3.10.12"
  }
 },
 "nbformat": 4,
 "nbformat_minor": 2
}
