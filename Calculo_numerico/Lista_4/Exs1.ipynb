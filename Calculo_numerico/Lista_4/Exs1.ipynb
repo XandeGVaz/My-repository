{
 "cells": [
  {
   "cell_type": "markdown",
   "metadata": {},
   "source": [
    "# <font color='gren'>Exercício 1"
   ]
  },
  {
   "cell_type": "markdown",
   "metadata": {},
   "source": [
    "## **1-Imports Necessários**"
   ]
  },
  {
   "cell_type": "code",
   "execution_count": 13,
   "metadata": {},
   "outputs": [],
   "source": [
    "import numpy as np\n",
    "from numpy import random\n",
    "\n",
    "import scipy\n",
    "from scipy import linalg\n",
    "from scipy.sparse import diags, linalg\n",
    "\n",
    "import matplotlib.pylab as plt\n",
    "from mpl_toolkits import mplot3d\n",
    "from matplotlib import cm\n",
    "\n",
    "import time\n",
    "\n",
    "import random"
   ]
  },
  {
   "cell_type": "markdown",
   "metadata": {},
   "source": [
    "## **2-Funções auxiliares**"
   ]
  },
  {
   "cell_type": "markdown",
   "metadata": {},
   "source": [
    "* Função para plotar os curvas de nível constante de temperatura"
   ]
  },
  {
   "cell_type": "code",
   "execution_count": 14,
   "metadata": {},
   "outputs": [],
   "source": [
    "\n",
    "def PlotaMembrane(N1,N2,L1,L2,W):\n",
    "    x = np.linspace(0, L1, N1)\n",
    "    y = np.linspace(0, L2, N2)\n",
    "    X,Y=np.meshgrid(x,y)\n",
    "    Z = np.copy(W)\n",
    "    fig, ax = plt.subplots()\n",
    "    ax.set_aspect('equal')\n",
    "    ax.set(xlabel='x', ylabel='y', title='Deslocamento vertical')\n",
    "    im = ax.contourf(X, Y, Z, 20)\n",
    "    im2 = ax.contour(X, Y, Z, 20, linewidths=0.25, colors='k')\n",
    "    fig.colorbar(im, ax=ax)\n",
    "    plt.show()\n",
    "    \n",
    "def PlotaSurface(N1,N2,L1,L2,W):\n",
    "    x = np.linspace(0, L1, N1)\n",
    "    y = np.linspace(0, L2, N2)\n",
    "    X,Y=np.meshgrid(x,y)\n",
    "    Z = np.copy(W)\n",
    "    ax = plt.axes(projection ='3d')\n",
    "    ax.plot_surface(X, Y, Z,cmap='viridis', edgecolor='none')\n",
    "    ax.set(xlabel='x', ylabel='y', title='Deslocamento vertical')\n",
    "    ax.set_zlim(-1.01, 1.01)\n",
    "    ax.plot_surface(X, Y, Z, cmap=cm.coolwarm,linewidth=0, antialiased=False)\n",
    "    "
   ]
  },
  {
   "cell_type": "markdown",
   "metadata": {},
   "source": [
    "* Montagem das matrizes K e M"
   ]
  },
  {
   "cell_type": "code",
   "execution_count": 15,
   "metadata": {},
   "outputs": [],
   "source": [
    "def ij2n (i, j, N):\n",
    "    return i + j*N\n",
    "\n",
    "def BuildMatrizesEigen(N1, N2, sigma, rho, e, delta):\n",
    "    nunk = N1*N2\n",
    "\n",
    "    # Stiffness matrix K: Build it as a sparse matrix \n",
    "    d1 = 4.0*np.ones(nunk)\n",
    "    d2 = -np.ones(nunk-1)\n",
    "    d3 = -np.ones(nunk-N1)\n",
    "    K = (sigma/delta**2)*scipy.sparse.diags([d3, d2, d1, d2, d3], [-N1, -1, 0, 1, N1], format='csr')\n",
    "\n",
    "    # Force the eigenvalues associated to boundary points \n",
    "    # to be a big number as compared to fundamental modes\n",
    "    big_number = 10000\n",
    "    Iden = big_number*scipy.sparse.identity(nunk, format='csr')\n",
    "\n",
    "    # Lados verticais\n",
    "    for k in range(0,N2):\n",
    "        Ic = ij2n(0,k,N1) # Left\n",
    "        K[Ic,:], K[:,Ic] = Iden[Ic,:], Iden[:,Ic]\n",
    "\n",
    "        Ic = ij2n(N1-1,k,N1) # Right\n",
    "        K[Ic,:], K[:,Ic] = Iden[Ic,:], Iden[:,Ic]\n",
    "        \n",
    "    # Lados horizontais\n",
    "    for k in range(0,N1):\n",
    "        Ic = ij2n(k,0,N1) # Bottom\n",
    "        K[Ic,:], K[:,Ic] = Iden[Ic,:], Iden[:,Ic]\n",
    "\n",
    "        Ic = ij2n(k,N2-1,N1) # Top\n",
    "        K[Ic,:], K[:,Ic] = Iden[Ic,:], Iden[:,Ic]\n",
    "\n",
    "    # Mass matrix: Simple case, multiple of identity\n",
    "    M = rho*e*scipy.sparse.identity(nunk, format='csr')\n",
    "    \n",
    "    return K, M    "
   ]
  },
  {
   "cell_type": "markdown",
   "metadata": {},
   "source": [
    "## **3-Método Iterativo de Francis**"
   ]
  },
  {
   "cell_type": "code",
   "execution_count": 16,
   "metadata": {},
   "outputs": [],
   "source": [
    "#   Função que encontra o maior elemento da matriz fora sua diagonal (i!=j)\n",
    "def return_error(M):\n",
    "    m=M\n",
    "    np.fill_diagonal(m,0)\n",
    "    m=np.absolute(m)\n",
    "    e=m.max()\n",
    "    return e\n",
    "\n",
    "#   Função do método iterativo de Francis que retorna a matriz D de autovalores na diagonal e a matriz de autovetores Q\n",
    "#com base em um erro ou um número máximo de iterações\n",
    "def francis_metod(A,tol,T_max):\n",
    "    Dold=A #Primeiro chute: D=A\n",
    "    Dnew=Dold\n",
    "    Vold=np.identity(len(A[0]))\n",
    "    Vnew=Vold\n",
    "    e,k=1,0\n",
    "    while(e>tol and k<T_max):\n",
    "        Q,R=scipy.linalg.qr(Dold)\n",
    "        Dnew=np.matmul(R,Q)\n",
    "        Vnew=np.matmul(Vold,Q)\n",
    "        e=return_error(Dold) #while acabará quando o maior valor for muito próximo de zero ou as tentativas se esgotarem\n",
    "        k+=1\n",
    "        Dold=Dnew\n",
    "        Vold=Vnew\n",
    "    return Dold.diagonal(), Vnew\n"
   ]
  },
  {
   "cell_type": "markdown",
   "metadata": {},
   "source": [
    "## **4-Tempo de processamento do método de Francis em função de n**"
   ]
  },
  {
   "cell_type": "code",
   "execution_count": 17,
   "metadata": {},
   "outputs": [],
   "source": [
    "def temp_francis_metod(tol,T_max,n):\n",
    "   A=np.zeros(shape=(n,n),dtype=float)\n",
    "   random.seed()\n",
    "   for i in range(n):\n",
    "      for j in range(i,n):\n",
    "         k=random.random()\n",
    "         A[i][j],A[j][i]=k,k\n",
    "   ti=time.time()\n",
    "   Lam,Q=francis_metod(A,tol,T_max)\n",
    "   tf=time.time()-ti\n",
    "   return tf\n"
   ]
  },
  {
   "cell_type": "markdown",
   "metadata": {},
   "source": [
    "## **5-Plots de resultados**"
   ]
  },
  {
   "cell_type": "code",
   "execution_count": 18,
   "metadata": {},
   "outputs": [
    {
     "data": {
      "image/png": "[encoded data removed]",
      "text/plain": [
       "<Figure size 640x480 with 1 Axes>"
      ]
     },
     "metadata": {},
     "output_type": "display_data"
    }
   ],
   "source": [
    "#Pré-setagem\n",
    "tol=10**(-8)\n",
    "T_max=10000\n",
    "\n",
    "#Definição dos eixos x e y do mapa a ser plotado\n",
    "x=np.array([10,50,100,200],dtype=int)\n",
    "y=np.array([])\n",
    "for i in range(len(x)):\n",
    "    y=np.append(y,temp_francis_metod(tol,T_max,x[i]))\n",
    "\n",
    "plt.plot(x,y)\n",
    "plt.grid()\n",
    "plt.xlabel('n')\n",
    "plt.ylabel('t[s]')\n",
    "plt.title('Tempo de processamento em função do tamanho n da matriz')\n",
    "plt.show()\n",
    "\n"
   ]
  }
 ],
 "metadata": {
  "kernelspec": {
   "display_name": "Python 3",
   "language": "python",
   "name": "python3"
  },
  "language_info": {
   "codemirror_mode": {
    "name": "ipython",
    "version": 3
   },
   "file_extension": ".py",
   "mimetype": "text/x-python",
   "name": "python",
   "nbconvert_exporter": "python",
   "pygments_lexer": "ipython3",
   "version": "3.10.12"
  }
 },
 "nbformat": 4,
 "nbformat_minor": 2
}
