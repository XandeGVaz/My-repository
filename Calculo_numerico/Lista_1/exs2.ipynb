{
 "cells": [
  {
   "cell_type": "markdown",
   "metadata": {},
   "source": [
    "# Exercício 2"
   ]
  },
  {
   "cell_type": "markdown",
   "metadata": {},
   "source": [
    "## Definição dos termos e funções"
   ]
  },
  {
   "cell_type": "code",
   "execution_count": 1,
   "metadata": {},
   "outputs": [],
   "source": [
    "import numpy as np\n",
    "\n",
    "##  Iniciação dos vetores que conterão os resultados para diferentes\n",
    "##valores do termo a\n",
    "x1,x2,x3,x4=[],[],[],[]\n",
    "x1.append(0.1),x2.append(0.1),x3.append(0.1),x4.append(0.1)\n",
    "\n",
    "for i in range (0,4999):\n",
    "    x1.append(1*x1[i]*(1-x1[i]))\n",
    "    x2.append(2*x2[i]*(1-x2[i]))\n",
    "    x3.append(3.8*x3[i]*(1-x3[i]))\n",
    "    x4.append(4*x4[i]*(1-x4[i]))\n",
    "\n",
    "##  Procedimento que usa tamanho do vetor x como limitante para o while\n",
    "##e como divisor para obter a media\n",
    "def calc_med(x):\n",
    "    tam=len(x)\n",
    "    s=0\n",
    "    i=0\n",
    "    while(i<tam):\n",
    "        s=s+x[i]\n",
    "        i=i+1\n",
    "    return (s/tam)\n",
    "\n",
    "##  Igualmente a media, so mudando a forma do retorno para que resulte na\n",
    "##variancia\n",
    "def calc_var(x,m):\n",
    "    tam=len(x)\n",
    "    s=0\n",
    "    i=0\n",
    "    while(i<tam):\n",
    "        s=s+(x[i]-m)**2\n",
    "        i=i+1\n",
    "    return (s/(tam-1))"
   ]
  },
  {
   "cell_type": "markdown",
   "metadata": {},
   "source": [
    "## Saidas"
   ]
  },
  {
   "cell_type": "code",
   "execution_count": 2,
   "metadata": {},
   "outputs": [
    {
     "name": "stdout",
     "output_type": "stream",
     "text": [
      "[x0=1]---->Media: \t 0.0012332267302220948 \t Variancia: 1.844297017570883e-05\n",
      "[x0=1]---->Media: \t 0.49979536874329933 \t Variancia: 6.228621164142467e-05\n",
      "[x0=1]---->Media: \t 0.6416431088470446 \t Variancia: 0.06105911286932956\n",
      "[x0=1]---->Media: \t 0.5021333249141717 \t Variancia: 0.12444271295911868\n"
     ]
    }
   ],
   "source": [
    "\n",
    "print('[x0=1]---->Media:','\\t',calc_med(x1),'\\t','Variancia:',calc_var(x1,calc_med(x1)))\n",
    "print('[x0=1]---->Media:','\\t',calc_med(x2),'\\t','Variancia:',calc_var(x2,calc_med(x2)))\n",
    "print('[x0=1]---->Media:','\\t',calc_med(x3),'\\t','Variancia:',calc_var(x3,calc_med(x3)))\n",
    "print('[x0=1]---->Media:','\\t',calc_med(x4),'\\t','Variancia:',calc_var(x4,calc_med(x4)))"
   ]
  }
 ],
 "metadata": {
  "kernelspec": {
   "display_name": "Python 3",
   "language": "python",
   "name": "python3"
  },
  "language_info": {
   "codemirror_mode": {
    "name": "ipython",
    "version": 3
   },
   "file_extension": ".py",
   "mimetype": "text/x-python",
   "name": "python",
   "nbconvert_exporter": "python",
   "pygments_lexer": "ipython3",
   "version": "3.10.12"
  }
 },
 "nbformat": 4,
 "nbformat_minor": 2
}
