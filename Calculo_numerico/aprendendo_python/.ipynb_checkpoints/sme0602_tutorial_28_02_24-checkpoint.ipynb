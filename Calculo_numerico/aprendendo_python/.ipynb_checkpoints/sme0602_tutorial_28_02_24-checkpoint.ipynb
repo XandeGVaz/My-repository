{
 "cells": [
  {
   "cell_type": "markdown",
   "id": "f1c24e96",
   "metadata": {},
   "source": [
    "# Tutorial de python"
   ]
  },
  {
   "cell_type": "markdown",
   "id": "915fcc94",
   "metadata": {},
   "source": [
    "## Definição de variáveis, matrizes e vetores"
   ]
  },
  {
   "cell_type": "code",
   "execution_count": 61,
   "id": "79767e75",
   "metadata": {},
   "outputs": [
    {
     "name": "stdout",
     "output_type": "stream",
     "text": [
      "1.0 \n",
      "\n",
      "[1. 2. 3. 4.] \n",
      "\n",
      "3.0 \n",
      "\n",
      "[[ 1.  2.  3.]\n",
      " [ 4.  5.  6.]\n",
      " [ 7.  8.  9.]\n",
      " [10. 11. 12.]] \n",
      "\n",
      "9.0 \n",
      "\n",
      "(4, 3) \n",
      "\n",
      "4\n",
      "3\n"
     ]
    }
   ],
   "source": [
    "import numpy as np\n",
    "\n",
    "# Uma variavel escalar simples\n",
    "a = 1.0\n",
    "print(a, '\\n')\n",
    "\n",
    "# Um vetor simples\n",
    "b = np.array([1, 2, 3, 4], dtype=np.float64)\n",
    "print(b, '\\n')\n",
    "\n",
    "# Accessar a componente do vetor\n",
    "print(b[2], '\\n')\n",
    "\n",
    "# Uma matriz\n",
    "c = np.array([[1,2,3], [4,5,6], [7,8,9], [10,11,12]], dtype=np.float64)\n",
    "print(c, '\\n')\n",
    "\n",
    "# Accessar os elementos de uma matriz\n",
    "print(c[2,2], '\\n')\n",
    "\n",
    "# Shape de uma matriz\n",
    "print(c.shape, '\\n')\n",
    "print(c.shape[0]) # numero de linhas\n",
    "print(c.shape[1]) # numero de colunas "
   ]
  },
  {
   "cell_type": "markdown",
   "id": "cb4441cf",
   "metadata": {},
   "source": [
    "## Matrizes especiais"
   ]
  },
  {
   "cell_type": "code",
   "execution_count": 7,
   "id": "a7b23c36",
   "metadata": {},
   "outputs": [
    {
     "name": "stdout",
     "output_type": "stream",
     "text": [
      "[[0. 0. 0.]\n",
      " [0. 0. 0.]\n",
      " [0. 0. 0.]\n",
      " [0. 0. 0.]\n",
      " [0. 0. 0.]] \n",
      "\n"
     ]
    }
   ],
   "source": [
    "# Matriz feita de zeros\n",
    "Z = np.zeros(shape=(5,3), dtype=np.float64)\n",
    "print(Z, '\\n')"
   ]
  },
  {
   "cell_type": "code",
   "execution_count": 9,
   "id": "71b0041c",
   "metadata": {
    "scrolled": true
   },
   "outputs": [
    {
     "name": "stdout",
     "output_type": "stream",
     "text": [
      "[[1. 1. 1. 1. 1.]\n",
      " [1. 1. 1. 1. 1.]] \n",
      "\n"
     ]
    }
   ],
   "source": [
    "# Matriz feita de uns\n",
    "U = np.ones(shape=(2,5), dtype=np.float64)\n",
    "print(U, '\\n')"
   ]
  },
  {
   "cell_type": "code",
   "execution_count": 10,
   "id": "a2f88ce4",
   "metadata": {},
   "outputs": [
    {
     "name": "stdout",
     "output_type": "stream",
     "text": [
      "[[1. 0. 0. 0.]\n",
      " [0. 1. 0. 0.]\n",
      " [0. 0. 1. 0.]\n",
      " [0. 0. 0. 1.]] \n",
      "\n"
     ]
    }
   ],
   "source": [
    "# Matriz identidade\n",
    "I = np.identity(4, dtype=np.float64)\n",
    "print(I, '\\n')"
   ]
  },
  {
   "cell_type": "code",
   "execution_count": 20,
   "id": "243adf1a",
   "metadata": {},
   "outputs": [
    {
     "name": "stdout",
     "output_type": "stream",
     "text": [
      "[[0.65824601 0.65139575 0.60429682 0.99176956]\n",
      " [0.25490699 0.58615665 0.54310424 0.12339605]\n",
      " [0.54664717 0.73713711 0.27997089 0.29709919]] \n",
      "\n",
      "[[3.35571981 3.34681448 3.28558586 3.78930043]\n",
      " [2.83137909 3.26200365 3.20603551 2.66041487]\n",
      " [3.21064132 3.45827824 2.86396216 2.88622894]] \n",
      "\n",
      "[[5 7]\n",
      " [5 6]\n",
      " [6 5]\n",
      " [5 7]\n",
      " [4 7]\n",
      " [6 6]]\n"
     ]
    }
   ],
   "source": [
    "# Matriz randomica\n",
    "# Numeros uniformemente distribuidos entre (0,1)\n",
    "R = np.random.rand(3,4)\n",
    "print(R, '\\n')\n",
    "\n",
    "# Numeros uniformemente distribuidos entre (a,b)\n",
    "a = 2.5\n",
    "b = 3.8\n",
    "U = np.ones(shape=(3,4), dtype=np.float64)\n",
    "Q = a*U + (b-a)*R\n",
    "print(Q, '\\n')\n",
    "\n",
    "# Numeros randomicos inteiros\n",
    "#help(np.random.randint)\n",
    "Ui = np.random.randint(4,8, size=(6,2), dtype=np.int32)\n",
    "print(Ui)\n"
   ]
  },
  {
   "cell_type": "markdown",
   "id": "27e5b979",
   "metadata": {},
   "source": [
    "## Operações com matrizes e vetores"
   ]
  },
  {
   "cell_type": "markdown",
   "id": "20d132b3",
   "metadata": {},
   "source": [
    "### Aplicar uma função num array"
   ]
  },
  {
   "cell_type": "code",
   "execution_count": 24,
   "id": "11277b2c",
   "metadata": {
    "scrolled": true
   },
   "outputs": [
    {
     "name": "stdout",
     "output_type": "stream",
     "text": [
      "[[1. 1. 1.]\n",
      " [1. 1. 1.]\n",
      " [1. 1. 1.]\n",
      " [1. 1. 1.]\n",
      " [1. 1. 1.]] \n",
      "\n",
      "[[2.71828183 1.         1.         1.        ]\n",
      " [1.         2.71828183 1.         1.        ]\n",
      " [1.         1.         2.71828183 1.        ]\n",
      " [1.         1.         1.         2.71828183]] \n",
      "\n"
     ]
    }
   ],
   "source": [
    "CZ = np.cos(Z)\n",
    "print(CZ, '\\n')\n",
    "\n",
    "EI = np.exp(I)\n",
    "print(EI, '\\n')"
   ]
  },
  {
   "cell_type": "markdown",
   "id": "d69eea7d",
   "metadata": {},
   "source": [
    "### Slicing"
   ]
  },
  {
   "cell_type": "code",
   "execution_count": 32,
   "id": "0b7a0ec9",
   "metadata": {},
   "outputs": [
    {
     "name": "stdout",
     "output_type": "stream",
     "text": [
      "[1.         2.71828183 1.         1.        ] \n",
      "\n",
      "[1.         1.         1.         2.71828183] \n",
      "\n",
      "[1. 1.] \n",
      "\n",
      "[2.71828183 2.71828183 2.71828183 2.71828183] \n",
      "\n",
      "[[2.71828183 0.         0.         0.        ]\n",
      " [0.         2.71828183 0.         0.        ]\n",
      " [0.         0.         2.71828183 0.        ]\n",
      " [0.         0.         0.         2.71828183]] \n",
      "\n"
     ]
    }
   ],
   "source": [
    "vetor1 = EI[1,:]\n",
    "print(vetor1, '\\n')\n",
    "\n",
    "vetor2 = EI[:,3]\n",
    "print(vetor2, '\\n')\n",
    "\n",
    "vetor3 = EI[2:4,1]\n",
    "print(vetor3, '\\n')\n",
    "\n",
    "vetor4 = np.diag(EI)\n",
    "print(vetor4, '\\n')\n",
    "\n",
    "newmatrix = np.diag(vetor4)\n",
    "print(newmatrix, '\\n')\n",
    "\n",
    "newmatrix = np.diag(np.diag(EI))"
   ]
  },
  {
   "cell_type": "markdown",
   "id": "0aea194e",
   "metadata": {},
   "source": [
    "### Operações entre arrays"
   ]
  },
  {
   "cell_type": "code",
   "execution_count": 38,
   "id": "37f3b9be",
   "metadata": {},
   "outputs": [
    {
     "name": "stdout",
     "output_type": "stream",
     "text": [
      "[1.6 2.6 3.6] \n",
      "\n",
      "[ 2.  6. 12.] \n",
      "\n",
      "20.0 \n",
      "\n",
      "20.0 \n",
      "\n",
      "[140. 320.] \n",
      "\n"
     ]
    }
   ],
   "source": [
    "v1 = np.array([1.0, 2.0, 3.0], dtype=np.float64)\n",
    "v2 = np.array([2.0, 3.0, 4.0], dtype=np.float64)\n",
    "\n",
    "# Combinacao linear de vetores\n",
    "alpha = 0.4\n",
    "beta = 0.6\n",
    "v3 = alpha*v1 + beta*v2\n",
    "print(v3, '\\n')\n",
    "\n",
    "# Produto ponto a ponto\n",
    "v4 = v1 * v2\n",
    "print(v4, '\\n')\n",
    "\n",
    "# Produto escalar\n",
    "p = v1 @ v2\n",
    "print(p, '\\n')\n",
    "\n",
    "# Seria o mesmo que fazer\n",
    "q = np.sum(v4)\n",
    "print(q, '\\n')\n",
    "\n",
    "# Produto usual Matriz-vetor\n",
    "A = np.array([[1,2,3], [4,5,6]], dtype=np.float64)\n",
    "x = np.array([10, 20, 30], dtype=np.float64)\n",
    "y = A @ x\n",
    "print(y, '\\n')"
   ]
  },
  {
   "cell_type": "markdown",
   "id": "a23e693f",
   "metadata": {},
   "source": [
    "## Estruturas de repetição"
   ]
  },
  {
   "cell_type": "code",
   "execution_count": 39,
   "id": "12c21ab6",
   "metadata": {},
   "outputs": [
    {
     "name": "stdout",
     "output_type": "stream",
     "text": [
      "0\n",
      "1\n",
      "2\n",
      "3\n",
      "4\n",
      "5\n"
     ]
    }
   ],
   "source": [
    "for i in range(6):\n",
    "    print(i)"
   ]
  },
  {
   "cell_type": "code",
   "execution_count": 40,
   "id": "ed0b1f1f",
   "metadata": {},
   "outputs": [
    {
     "name": "stdout",
     "output_type": "stream",
     "text": [
      "3\n",
      "4\n",
      "5\n",
      "6\n",
      "7\n",
      "8\n",
      "9\n"
     ]
    }
   ],
   "source": [
    "for i in range(3,10):\n",
    "    print(i)"
   ]
  },
  {
   "cell_type": "code",
   "execution_count": 41,
   "id": "81c8868c",
   "metadata": {},
   "outputs": [
    {
     "name": "stdout",
     "output_type": "stream",
     "text": [
      "4\n",
      "7\n",
      "10\n"
     ]
    }
   ],
   "source": [
    "for i in range(4,12,3):\n",
    "    print(i)"
   ]
  },
  {
   "cell_type": "code",
   "execution_count": 42,
   "id": "3626f8cf",
   "metadata": {},
   "outputs": [
    {
     "name": "stdout",
     "output_type": "stream",
     "text": [
      "0\n",
      "3\n",
      "6\n",
      "9\n"
     ]
    }
   ],
   "source": [
    "a = 0\n",
    "while(a < 10):\n",
    "    print(a)\n",
    "    a += 3"
   ]
  },
  {
   "cell_type": "code",
   "execution_count": 46,
   "id": "b93dd606",
   "metadata": {},
   "outputs": [
    {
     "name": "stdout",
     "output_type": "stream",
     "text": [
      "10.0\n",
      "20.0\n",
      "30.0\n",
      "\n",
      "\n",
      "0 10.0\n",
      "1 20.0\n",
      "2 30.0\n"
     ]
    }
   ],
   "source": [
    "for xi in x:\n",
    "    print(xi)\n",
    "    \n",
    "print('\\n')\n",
    "\n",
    "for i,xi in enumerate(x):\n",
    "    print(i, xi)"
   ]
  },
  {
   "cell_type": "markdown",
   "id": "6efc01ff",
   "metadata": {},
   "source": [
    "## Estruturas condicionais"
   ]
  },
  {
   "cell_type": "code",
   "execution_count": 58,
   "id": "11bf9b86",
   "metadata": {},
   "outputs": [
    {
     "name": "stdout",
     "output_type": "stream",
     "text": [
      "kdkdkdkdkdk\n"
     ]
    }
   ],
   "source": [
    "a = np.random.rand()\n",
    "if(a > 0 and a < 0.25):\n",
    "    print('kdkdkdkdkdk')\n",
    "elif(a >= 0.25 and a < 0.75):\n",
    "    print('owowowowow')\n",
    "else:\n",
    "    print('mmmmmmmmm')"
   ]
  },
  {
   "cell_type": "markdown",
   "id": "074cd2ee",
   "metadata": {},
   "source": [
    "## Declaração de funções"
   ]
  },
  {
   "cell_type": "code",
   "execution_count": 68,
   "id": "57b323b2",
   "metadata": {},
   "outputs": [],
   "source": [
    "def myfunc(A, B):\n",
    "    \n",
    "    ncA, nlB = A.shape[1], B.shape[0]\n",
    "    if(ncA != nlB):\n",
    "        raise Exception('Produto incompativel')\n",
    "        \n",
    "    nlA, ncB = A.shape[0], B.shape[1]\n",
    "    C = np.zeros(shape=(nlA, ncB))\n",
    "    \n",
    "    for i in range(nlA):\n",
    "        for j in range(ncB):\n",
    "            for k in range(ncA):\n",
    "                C[i,j] += A[i,k]*B[k,j]\n",
    "    \n",
    "    return C"
   ]
  },
  {
   "cell_type": "code",
   "execution_count": 77,
   "id": "5f510b0b",
   "metadata": {},
   "outputs": [
    {
     "name": "stdout",
     "output_type": "stream",
     "text": [
      "1.7806149921485808e-13\n",
      "8.881784197001252e-15\n"
     ]
    }
   ],
   "source": [
    "m = 100\n",
    "r = 50\n",
    "n = 200\n",
    "\n",
    "A = np.random.rand(m,r)\n",
    "B = np.random.rand(r,n)\n",
    "\n",
    "C = myfunc(A, B)\n",
    "#print(C)\n",
    "\n",
    "D = A @ B\n",
    "\n",
    "dif = np.linalg.norm(D - C)\n",
    "\n",
    "print(dif)\n",
    "\n",
    "print(np.max(np.abs(D-C)))\n"
   ]
  }
 ],
 "metadata": {
  "kernelspec": {
   "display_name": "Python 3",
   "language": "python",
   "name": "python3"
  },
  "language_info": {
   "codemirror_mode": {
    "name": "ipython",
    "version": 3
   },
   "file_extension": ".py",
   "mimetype": "text/x-python",
   "name": "python",
   "nbconvert_exporter": "python",
   "pygments_lexer": "ipython3",
   "version": "3.7.3"
  },
  "latex_envs": {
   "LaTeX_envs_menu_present": true,
   "autoclose": false,
   "autocomplete": true,
   "bibliofile": "biblio.bib",
   "cite_by": "apalike",
   "current_citInitial": 1,
   "eqLabelWithNumbers": true,
   "eqNumInitial": 1,
   "hotkeys": {
    "equation": "Ctrl-E",
    "itemize": "Ctrl-I"
   },
   "labels_anchors": false,
   "latex_user_defs": false,
   "report_style_numbering": false,
   "user_envs_cfg": false
  },
  "toc": {
   "base_numbering": 1,
   "nav_menu": {},
   "number_sections": true,
   "sideBar": true,
   "skip_h1_title": false,
   "title_cell": "Table of Contents",
   "title_sidebar": "Contents",
   "toc_cell": false,
   "toc_position": {},
   "toc_section_display": true,
   "toc_window_display": false
  }
 },
 "nbformat": 4,
 "nbformat_minor": 5
}
