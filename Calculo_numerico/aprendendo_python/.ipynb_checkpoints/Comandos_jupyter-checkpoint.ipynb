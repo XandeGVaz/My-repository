{
 "cells": [
  {
   "cell_type": "markdown",
   "metadata": {},
   "source": [
    "# 1-Modelos de títulos e itens\n",
    "# Título 1\n",
    "## Título 2\n",
    "### Título 3\n",
    "* item 1\n",
    "* item 2\n",
    "* item 3"
   ]
  },
  {
   "cell_type": "markdown",
   "metadata": {},
   "source": [
    "--------------------------------------------------------------------------------------------------------"
   ]
  },
  {
   "cell_type": "markdown",
   "metadata": {},
   "source": [
    "# 2-Teclas Interessantes\n",
    "## 2.1-Transformar célula em markdown\n",
    "* Use \"m\" para mudar uma célula para markdown\n",
    "## 2.2-Rodar uma única célula\n",
    "* Use ctr+enter para rodar uma célula\n",
    "## 2.3-Criar uma célula abaixo\n",
    "* use \"b\" de cell below\n",
    "## 2.4-Criar uma célula acima \n",
    "* use \"a\" de cell above"
   ]
  },
  {
   "cell_type": "code",
   "execution_count": 4,
   "metadata": {},
   "outputs": [
    {
     "name": "stdout",
     "output_type": "stream",
     "text": [
      "oi\n"
     ]
    }
   ],
   "source": [
    "print(\"oi\")"
   ]
  }
 ],
 "metadata": {
  "kernelspec": {
   "display_name": "Python 3 (ipykernel)",
   "language": "python",
   "name": "python3"
  },
  "language_info": {
   "codemirror_mode": {
    "name": "ipython",
    "version": 3
   },
   "file_extension": ".py",
   "mimetype": "text/x-python",
   "name": "python",
   "nbconvert_exporter": "python",
   "pygments_lexer": "ipython3",
   "version": "3.10.12"
  }
 },
 "nbformat": 4,
 "nbformat_minor": 4
}
