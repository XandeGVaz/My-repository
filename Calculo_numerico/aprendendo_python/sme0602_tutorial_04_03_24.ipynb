{
 "cells": [
  {
   "cell_type": "markdown",
   "id": "f1c24e96",
   "metadata": {},
   "source": [
    "# Tutorial de python"
   ]
  },
  {
   "cell_type": "markdown",
   "id": "915fcc94",
   "metadata": {},
   "source": [
    "## Definição de variáveis, matrizes e vetores"
   ]
  },
  {
   "cell_type": "code",
   "execution_count": 1,
   "id": "79767e75",
   "metadata": {},
   "outputs": [
    {
     "name": "stdout",
     "output_type": "stream",
     "text": [
      "1.0 \n",
      "\n",
      "[1. 2. 3. 4.] \n",
      "\n",
      "3.0 \n",
      "\n",
      "[[ 1.  2.  3.]\n",
      " [ 4.  5.  6.]\n",
      " [ 7.  8.  9.]\n",
      " [10. 11. 12.]] \n",
      "\n",
      "9.0 \n",
      "\n",
      "(4, 3) \n",
      "\n",
      "4\n",
      "3\n"
     ]
    }
   ],
   "source": [
    "import numpy as np\n",
    "\n",
    "# Uma variavel escalar simples\n",
    "a = 1.0\n",
    "print(a, '\\n')\n",
    "\n",
    "# Um vetor simples\n",
    "b = np.array([1, 2, 3, 4], dtype=np.float64)\n",
    "print(b, '\\n')\n",
    "\n",
    "# Accessar a componente do vetor\n",
    "print(b[2], '\\n')\n",
    "\n",
    "# Uma matriz\n",
    "c = np.array([[1,2,3], [4,5,6], [7,8,9], [10,11,12]], dtype=np.float64)\n",
    "print(c, '\\n')\n",
    "\n",
    "# Accessar os elementos de uma matriz\n",
    "print(c[2,2], '\\n')\n",
    "\n",
    "# Shape de uma matriz\n",
    "print(c.shape, '\\n')\n",
    "print(c.shape[0]) # numero de linhas\n",
    "print(c.shape[1]) # numero de colunas "
   ]
  },
  {
   "cell_type": "markdown",
   "id": "cb4441cf",
   "metadata": {},
   "source": [
    "## Matrizes especiais"
   ]
  },
  {
   "cell_type": "code",
   "execution_count": 2,
   "id": "a7b23c36",
   "metadata": {},
   "outputs": [
    {
     "name": "stdout",
     "output_type": "stream",
     "text": [
      "[[0. 0. 0.]\n",
      " [0. 0. 0.]\n",
      " [0. 0. 0.]\n",
      " [0. 0. 0.]\n",
      " [0. 0. 0.]] \n",
      "\n"
     ]
    }
   ],
   "source": [
    "# Matriz feita de zeros\n",
    "Z = np.zeros(shape=(5,3), dtype=np.float64)\n",
    "print(Z, '\\n')"
   ]
  },
  {
   "cell_type": "code",
   "execution_count": 3,
   "id": "71b0041c",
   "metadata": {
    "scrolled": true
   },
   "outputs": [
    {
     "name": "stdout",
     "output_type": "stream",
     "text": [
      "[[1. 1. 1. 1. 1.]\n",
      " [1. 1. 1. 1. 1.]] \n",
      "\n"
     ]
    }
   ],
   "source": [
    "# Matriz feita de uns\n",
    "U = np.ones(shape=(2,5), dtype=np.float64)\n",
    "print(U, '\\n')"
   ]
  },
  {
   "cell_type": "code",
   "execution_count": 4,
   "id": "a2f88ce4",
   "metadata": {},
   "outputs": [
    {
     "name": "stdout",
     "output_type": "stream",
     "text": [
      "[[1. 0. 0. 0.]\n",
      " [0. 1. 0. 0.]\n",
      " [0. 0. 1. 0.]\n",
      " [0. 0. 0. 1.]] \n",
      "\n"
     ]
    }
   ],
   "source": [
    "# Matriz identidade\n",
    "I = np.identity(4, dtype=np.float64)\n",
    "print(I, '\\n')"
   ]
  },
  {
   "cell_type": "code",
   "execution_count": 5,
   "id": "243adf1a",
   "metadata": {},
   "outputs": [
    {
     "name": "stdout",
     "output_type": "stream",
     "text": [
      "[[0.06773916 0.64927215 0.43205536 0.2224545 ]\n",
      " [0.07021672 0.39352945 0.57991076 0.45672111]\n",
      " [0.32951462 0.89693455 0.06511436 0.96869217]] \n",
      "\n",
      "[[2.58806091 3.34405379 3.06167197 2.78919086]\n",
      " [2.59128174 3.01158828 3.25388398 3.09373745]\n",
      " [2.92836901 3.66601491 2.58464866 3.75929983]] \n",
      "\n",
      "[[5 7]\n",
      " [7 6]\n",
      " [7 7]\n",
      " [5 6]\n",
      " [5 6]\n",
      " [7 7]]\n"
     ]
    }
   ],
   "source": [
    "# Matriz randomica\n",
    "# Numeros uniformemente distribuidos entre (0,1)\n",
    "R = np.random.rand(3,4)\n",
    "print(R, '\\n')\n",
    "\n",
    "# Numeros uniformemente distribuidos entre (a,b)\n",
    "a = 2.5\n",
    "b = 3.8\n",
    "U = np.ones(shape=(3,4), dtype=np.float64)\n",
    "Q = a*U + (b-a)*R\n",
    "print(Q, '\\n')\n",
    "\n",
    "# Numeros randomicos inteiros\n",
    "#help(np.random.randint)\n",
    "Ui = np.random.randint(4,8, size=(6,2), dtype=np.int32)\n",
    "print(Ui)\n"
   ]
  },
  {
   "cell_type": "markdown",
   "id": "27e5b979",
   "metadata": {},
   "source": [
    "## Operações com matrizes e vetores"
   ]
  },
  {
   "cell_type": "markdown",
   "id": "20d132b3",
   "metadata": {},
   "source": [
    "### Aplicar uma função num array"
   ]
  },
  {
   "cell_type": "code",
   "execution_count": 6,
   "id": "11277b2c",
   "metadata": {
    "scrolled": true
   },
   "outputs": [
    {
     "name": "stdout",
     "output_type": "stream",
     "text": [
      "[[1. 1. 1.]\n",
      " [1. 1. 1.]\n",
      " [1. 1. 1.]\n",
      " [1. 1. 1.]\n",
      " [1. 1. 1.]] \n",
      "\n",
      "[[2.71828183 1.         1.         1.        ]\n",
      " [1.         2.71828183 1.         1.        ]\n",
      " [1.         1.         2.71828183 1.        ]\n",
      " [1.         1.         1.         2.71828183]] \n",
      "\n"
     ]
    }
   ],
   "source": [
    "CZ = np.cos(Z)\n",
    "print(CZ, '\\n')\n",
    "\n",
    "EI = np.exp(I)\n",
    "print(EI, '\\n')"
   ]
  },
  {
   "cell_type": "markdown",
   "id": "d69eea7d",
   "metadata": {},
   "source": [
    "### Slicing"
   ]
  },
  {
   "cell_type": "code",
   "execution_count": 7,
   "id": "0b7a0ec9",
   "metadata": {},
   "outputs": [
    {
     "name": "stdout",
     "output_type": "stream",
     "text": [
      "[1.         2.71828183 1.         1.        ] \n",
      "\n",
      "[1.         1.         1.         2.71828183] \n",
      "\n",
      "[1. 1.] \n",
      "\n",
      "[2.71828183 2.71828183 2.71828183 2.71828183] \n",
      "\n",
      "[[2.71828183 0.         0.         0.        ]\n",
      " [0.         2.71828183 0.         0.        ]\n",
      " [0.         0.         2.71828183 0.        ]\n",
      " [0.         0.         0.         2.71828183]] \n",
      "\n"
     ]
    }
   ],
   "source": [
    "vetor1 = EI[1,:]\n",
    "print(vetor1, '\\n')\n",
    "\n",
    "vetor2 = EI[:,3]\n",
    "print(vetor2, '\\n')\n",
    "\n",
    "vetor3 = EI[2:4,1]\n",
    "print(vetor3, '\\n')\n",
    "\n",
    "vetor4 = np.diag(EI)\n",
    "print(vetor4, '\\n')\n",
    "\n",
    "newmatrix = np.diag(vetor4)\n",
    "print(newmatrix, '\\n')\n",
    "\n",
    "newmatrix = np.diag(np.diag(EI))"
   ]
  },
  {
   "cell_type": "markdown",
   "id": "0aea194e",
   "metadata": {},
   "source": [
    "### Operações entre arrays"
   ]
  },
  {
   "cell_type": "code",
   "execution_count": 8,
   "id": "37f3b9be",
   "metadata": {},
   "outputs": [
    {
     "name": "stdout",
     "output_type": "stream",
     "text": [
      "[1.6 2.6 3.6] \n",
      "\n",
      "[ 2.  6. 12.] \n",
      "\n",
      "20.0 \n",
      "\n",
      "20.0 \n",
      "\n",
      "[140. 320.] \n",
      "\n"
     ]
    }
   ],
   "source": [
    "v1 = np.array([1.0, 2.0, 3.0], dtype=np.float64)\n",
    "v2 = np.array([2.0, 3.0, 4.0], dtype=np.float64)\n",
    "\n",
    "# Combinacao linear de vetores\n",
    "alpha = 0.4\n",
    "beta = 0.6\n",
    "v3 = alpha*v1 + beta*v2\n",
    "print(v3, '\\n')\n",
    "\n",
    "# Produto ponto a ponto\n",
    "v4 = v1 * v2\n",
    "print(v4, '\\n')\n",
    "\n",
    "# Produto escalar\n",
    "p = v1 @ v2\n",
    "print(p, '\\n')\n",
    "\n",
    "# Seria o mesmo que fazer\n",
    "q = np.sum(v4)\n",
    "print(q, '\\n')\n",
    "\n",
    "# Produto usual Matriz-vetor\n",
    "A = np.array([[1,2,3], [4,5,6]], dtype=np.float64)\n",
    "x = np.array([10, 20, 30], dtype=np.float64)\n",
    "y = A @ x\n",
    "print(y, '\\n')"
   ]
  },
  {
   "cell_type": "markdown",
   "id": "a23e693f",
   "metadata": {},
   "source": [
    "## Estruturas de repetição"
   ]
  },
  {
   "cell_type": "code",
   "execution_count": 9,
   "id": "12c21ab6",
   "metadata": {},
   "outputs": [
    {
     "name": "stdout",
     "output_type": "stream",
     "text": [
      "0\n",
      "1\n",
      "2\n",
      "3\n",
      "4\n",
      "5\n"
     ]
    }
   ],
   "source": [
    "for i in range(6):\n",
    "    print(i)"
   ]
  },
  {
   "cell_type": "code",
   "execution_count": 10,
   "id": "ed0b1f1f",
   "metadata": {},
   "outputs": [
    {
     "name": "stdout",
     "output_type": "stream",
     "text": [
      "3\n",
      "4\n",
      "5\n",
      "6\n",
      "7\n",
      "8\n",
      "9\n"
     ]
    }
   ],
   "source": [
    "for i in range(3,10):\n",
    "    print(i)"
   ]
  },
  {
   "cell_type": "code",
   "execution_count": 11,
   "id": "81c8868c",
   "metadata": {},
   "outputs": [
    {
     "name": "stdout",
     "output_type": "stream",
     "text": [
      "4\n",
      "7\n",
      "10\n"
     ]
    }
   ],
   "source": [
    "for i in range(4,12,3):\n",
    "    print(i)"
   ]
  },
  {
   "cell_type": "code",
   "execution_count": 12,
   "id": "3626f8cf",
   "metadata": {},
   "outputs": [
    {
     "name": "stdout",
     "output_type": "stream",
     "text": [
      "0\n",
      "3\n",
      "6\n",
      "9\n"
     ]
    }
   ],
   "source": [
    "a = 0\n",
    "while(a < 10):\n",
    "    print(a)\n",
    "    a += 3"
   ]
  },
  {
   "cell_type": "code",
   "execution_count": 13,
   "id": "b93dd606",
   "metadata": {},
   "outputs": [
    {
     "name": "stdout",
     "output_type": "stream",
     "text": [
      "10.0\n",
      "20.0\n",
      "30.0\n",
      "\n",
      "\n",
      "0 10.0\n",
      "1 20.0\n",
      "2 30.0\n"
     ]
    }
   ],
   "source": [
    "for xi in x:\n",
    "    print(xi)\n",
    "    \n",
    "print('\\n')\n",
    "\n",
    "for i,xi in enumerate(x):\n",
    "    print(i, xi)"
   ]
  },
  {
   "cell_type": "markdown",
   "id": "6efc01ff",
   "metadata": {},
   "source": [
    "## Estruturas condicionais"
   ]
  },
  {
   "cell_type": "code",
   "execution_count": 14,
   "id": "11bf9b86",
   "metadata": {},
   "outputs": [
    {
     "name": "stdout",
     "output_type": "stream",
     "text": [
      "owowowowow\n"
     ]
    }
   ],
   "source": [
    "a = np.random.rand()\n",
    "if(a > 0 and a < 0.25):\n",
    "    print('kdkdkdkdkdk')\n",
    "elif(a >= 0.25 and a < 0.75):\n",
    "    print('owowowowow')\n",
    "else:\n",
    "    print('mmmmmmmmm')"
   ]
  },
  {
   "cell_type": "markdown",
   "id": "074cd2ee",
   "metadata": {},
   "source": [
    "## Declaração de funções"
   ]
  },
  {
   "cell_type": "code",
   "execution_count": 15,
   "id": "57b323b2",
   "metadata": {},
   "outputs": [],
   "source": [
    "import time\n",
    "\n",
    "def myfunc(A, B):\n",
    "    \n",
    "    ncA, nlB = A.shape[1], B.shape[0]\n",
    "    if(ncA != nlB):\n",
    "        raise Exception('Produto incompativel')\n",
    "        \n",
    "    nlA, ncB = A.shape[0], B.shape[1]\n",
    "    C = np.zeros(shape=(nlA, ncB))\n",
    "    \n",
    "    ti = time.time()\n",
    "    \n",
    "    for i in range(nlA):\n",
    "        for j in range(ncB):\n",
    "            for k in range(ncA):\n",
    "                C[i,j] += A[i,k]*B[k,j]\n",
    "                \n",
    "    ttotal = time.time() - ti\n",
    "    \n",
    "    return ttotal, C"
   ]
  },
  {
   "cell_type": "code",
   "execution_count": 19,
   "id": "5f510b0b",
   "metadata": {},
   "outputs": [
    {
     "name": "stdout",
     "output_type": "stream",
     "text": [
      "Tempo fazendo na mao= 0.6582112312316895\n",
      "Tempo usando @ = 0.00037598609924316406\n"
     ]
    }
   ],
   "source": [
    "m = 100\n",
    "r = 50\n",
    "n = 200\n",
    "\n",
    "K = np.random.rand(m,r)\n",
    "R = np.random.rand(r,n)\n",
    "\n",
    "tdemorou, C = myfunc(K, R)\n",
    "print('Tempo fazendo na mao=', tdemorou)\n",
    "\n",
    "ti = time.time()\n",
    "D = K @ R\n",
    "tdemorou = time.time() - ti\n",
    "print('Tempo usando @ =', tdemorou)\n",
    "\n",
    "#dif = np.linalg.norm(D - C)\n",
    "#print(dif)\n",
    "#print(np.max(np.abs(D-C)))\n"
   ]
  },
  {
   "cell_type": "markdown",
   "id": "df75e51d",
   "metadata": {},
   "source": [
    "## Gráficos e plots"
   ]
  },
  {
   "cell_type": "markdown",
   "id": "5dcc8501",
   "metadata": {},
   "source": [
    "## Gráficos 2d básicos"
   ]
  },
  {
   "cell_type": "code",
   "execution_count": 28,
   "id": "a7fab951",
   "metadata": {},
   "outputs": [
    {
     "data": {
      "image/png": "[encoded data removed]",
      "text/plain": [
       "<Figure size 432x288 with 1 Axes>"
      ]
     },
     "metadata": {
      "needs_background": "light"
     },
     "output_type": "display_data"
    }
   ],
   "source": [
    "import matplotlib.pyplot as plt\n",
    "\n",
    "xi = 0.0\n",
    "xf = 2.0*np.pi\n",
    "N = 1000\n",
    "\n",
    "x = np.linspace(xi, xf, N)\n",
    "y = 2.0 + np.sin(2.0*x) + 0.05*np.cos(100.0*x)\n",
    "\n",
    "plt.plot(x, y)\n",
    "plt.grid()\n",
    "plt.xlabel('t [sec]')\n",
    "plt.ylabel('y(t)')\n",
    "plt.title('Meu grafiquinho')\n",
    "plt.show()\n"
   ]
  },
  {
   "cell_type": "code",
   "execution_count": 32,
   "id": "43a6f44a",
   "metadata": {
    "scrolled": true
   },
   "outputs": [
    {
     "data": {
      "image/png": "[encoded data removed]",
      "text/plain": [
       "<Figure size 432x288 with 1 Axes>"
      ]
     },
     "metadata": {
      "needs_background": "light"
     },
     "output_type": "display_data"
    }
   ],
   "source": [
    "xi = 0.0\n",
    "xf = 2.0*np.pi\n",
    "N = 1000\n",
    "\n",
    "x = np.linspace(xi, xf, N)\n",
    "y = 2.0 + np.sin(2.0*x) + 0.05*np.cos(100.0*x)\n",
    "y2 = 2.0 + np.cos(2.0*x) + 0.1*np.cos(20.0*x)\n",
    "\n",
    "plt.plot(x, y, '-r', x, y2, 'og')\n",
    "plt.grid()\n",
    "plt.xlabel('t [sec]')\n",
    "plt.ylabel('y(t)')\n",
    "plt.title('Meu grafiquinho')\n",
    "plt.legend(['Função 1', 'Função 2'])\n",
    "plt.show()"
   ]
  },
  {
   "cell_type": "markdown",
   "id": "6534d30d",
   "metadata": {},
   "source": [
    "## Subplots"
   ]
  },
  {
   "cell_type": "code",
   "execution_count": 55,
   "id": "7ada1f9a",
   "metadata": {},
   "outputs": [
    {
     "data": {
      "image/png": "[encoded data removed]",
      "text/plain": [
       "<Figure size 720x432 with 4 Axes>"
      ]
     },
     "metadata": {
      "needs_background": "light"
     },
     "output_type": "display_data"
    }
   ],
   "source": [
    "x = np.linspace(xi, xf, N)\n",
    "y1 = 2.0 + np.sin(2.0*x) + 0.05*np.cos(100.0*x)\n",
    "y2 = 2.0 + np.cos(2.0*x) + 0.1*np.cos(20.0*x)\n",
    "y3 = np.exp(-0.5*x)\n",
    "y4 = np.tanh(y2)\n",
    "\n",
    "fig, ax = plt.subplots(2,2, figsize=(10, 6))\n",
    "\n",
    "ax[0,0].plot(x,y1, 'g')\n",
    "ax[0,0].legend(['funcao 1'])\n",
    "ax[0,0].grid()\n",
    "ax[0,0].set_ylabel('y1(t)')\n",
    "\n",
    "ax[0,1].plot(x,y2, '-r')\n",
    "ax[1,0].plot(x,y3)\n",
    "ax[1,1].plot(x,y4)\n",
    "ax[1,1].grid()"
   ]
  },
  {
   "cell_type": "code",
   "execution_count": 65,
   "id": "e9d9f45d",
   "metadata": {},
   "outputs": [
    {
     "name": "stdout",
     "output_type": "stream",
     "text": [
      "3.4.1\n"
     ]
    }
   ],
   "source": [
    "import matplotlib\n",
    "\n",
    "print(matplotlib.__version__)"
   ]
  },
  {
   "cell_type": "code",
   "execution_count": 80,
   "id": "685dc6f1",
   "metadata": {},
   "outputs": [
    {
     "data": {
      "image/png": "[encoded data removed]",
      "text/plain": [
       "<Figure size 432x288 with 2 Axes>"
      ]
     },
     "metadata": {
      "needs_background": "light"
     },
     "output_type": "display_data"
    }
   ],
   "source": [
    "from mpl_toolkits import mplot3d\n",
    "\n",
    "# Vamos plotar a função\n",
    "def myfunc(x,y):\n",
    " return (1- (x**2+y**3))*np.exp(-(x**2+y**2)/2)\n",
    " \n",
    "x = np.arange(-3.0,3.0,0.1)\n",
    "y = np.arange(-3.0,3.0,0.1)\n",
    "X,Y = np.meshgrid(x, y)\n",
    "Z = myfunc(X, Y)\n",
    "\n",
    "fig = plt.figure()\n",
    "ax = plt.axes(projection=\"3d\", facecolor='w')\n",
    "ax.plot_surface(X, Y, Z, rstride=1, cstride=1, cmap='viridis', edgecolor=None)\n",
    "ax.set(xlabel=\"$x$\", ylabel=\"$y$\", zlabel=\"$f(x, y)$\", title='$z=(1-x^2+y^3) e^{-(x^2+y^2)/2}$')\n",
    "\n",
    "m = plt.cm.ScalarMappable(cmap='viridis')\n",
    "m.set_array(Z)\n",
    "plt.colorbar(m)\n",
    "plt.show()\n"
   ]
  },
  {
   "cell_type": "markdown",
   "id": "66099887",
   "metadata": {},
   "source": [
    "## Histograma"
   ]
  },
  {
   "cell_type": "code",
   "execution_count": 89,
   "id": "4ed389db",
   "metadata": {},
   "outputs": [
    {
     "data": {
      "text/plain": [
       "(array([2.000e+00, 7.000e+00, 1.200e+01, 3.400e+01, 6.200e+01, 9.700e+01,\n",
       "        1.510e+02, 2.420e+02, 3.590e+02, 5.630e+02, 7.000e+02, 1.006e+03,\n",
       "        1.212e+03, 1.647e+03, 2.010e+03, 2.524e+03, 2.926e+03, 3.302e+03,\n",
       "        3.726e+03, 4.269e+03, 4.605e+03, 5.042e+03, 5.173e+03, 5.459e+03,\n",
       "        5.603e+03, 5.506e+03, 5.398e+03, 5.173e+03, 4.886e+03, 4.516e+03,\n",
       "        4.059e+03, 3.699e+03, 3.184e+03, 2.867e+03, 2.322e+03, 1.864e+03,\n",
       "        1.531e+03, 1.237e+03, 9.020e+02, 6.660e+02, 5.410e+02, 3.340e+02,\n",
       "        2.470e+02, 1.630e+02, 8.300e+01, 6.000e+01, 1.100e+01, 1.200e+01,\n",
       "        5.000e+00, 1.000e+00]),\n",
       " array([0.21950303, 0.31125079, 0.40299856, 0.49474632, 0.58649408,\n",
       "        0.67824185, 0.76998961, 0.86173737, 0.95348514, 1.0452329 ,\n",
       "        1.13698066, 1.22872843, 1.32047619, 1.41222395, 1.50397172,\n",
       "        1.59571948, 1.68746724, 1.77921501, 1.87096277, 1.96271053,\n",
       "        2.0544583 , 2.14620606, 2.23795382, 2.32970158, 2.42144935,\n",
       "        2.51319711, 2.60494487, 2.69669264, 2.7884404 , 2.88018816,\n",
       "        2.97193593, 3.06368369, 3.15543145, 3.24717922, 3.33892698,\n",
       "        3.43067474, 3.52242251, 3.61417027, 3.70591803, 3.7976658 ,\n",
       "        3.88941356, 3.98116132, 4.07290909, 4.16465685, 4.25640461,\n",
       "        4.34815238, 4.43990014, 4.5316479 , 4.62339566, 4.71514343,\n",
       "        4.80689119]),\n",
       " <BarContainer object of 50 artists>)"
      ]
     },
     "execution_count": 89,
     "metadata": {},
     "output_type": "execute_result"
    },
    {
     "data": {
      "image/png": "[encoded data removed]",
      "text/plain": [
       "<Figure size 432x288 with 1 Axes>"
      ]
     },
     "metadata": {
      "needs_background": "light"
     },
     "output_type": "display_data"
    }
   ],
   "source": [
    "n = 5\n",
    "\n",
    "N = 100000\n",
    "somas = []\n",
    "for i in range(N):\n",
    "    x = np.random.rand(n)\n",
    "    s = np.sum(x)\n",
    "    somas.append(s)\n",
    "\n",
    "plt.hist(somas, bins=50)"
   ]
  }
 ],
 "metadata": {
  "kernelspec": {
   "display_name": "Python 3",
   "language": "python",
   "name": "python3"
  },
  "language_info": {
   "codemirror_mode": {
    "name": "ipython",
    "version": 3
   },
   "file_extension": ".py",
   "mimetype": "text/x-python",
   "name": "python",
   "nbconvert_exporter": "python",
   "pygments_lexer": "ipython3",
   "version": "3.7.3"
  },
  "latex_envs": {
   "LaTeX_envs_menu_present": true,
   "autoclose": false,
   "autocomplete": true,
   "bibliofile": "biblio.bib",
   "cite_by": "apalike",
   "current_citInitial": 1,
   "eqLabelWithNumbers": true,
   "eqNumInitial": 1,
   "hotkeys": {
    "equation": "Ctrl-E",
    "itemize": "Ctrl-I"
   },
   "labels_anchors": false,
   "latex_user_defs": false,
   "report_style_numbering": false,
   "user_envs_cfg": false
  },
  "toc": {
   "base_numbering": 1,
   "nav_menu": {},
   "number_sections": true,
   "sideBar": true,
   "skip_h1_title": false,
   "title_cell": "Table of Contents",
   "title_sidebar": "Contents",
   "toc_cell": false,
   "toc_position": {},
   "toc_section_display": true,
   "toc_window_display": false
  }
 },
 "nbformat": 4,
 "nbformat_minor": 5
}
