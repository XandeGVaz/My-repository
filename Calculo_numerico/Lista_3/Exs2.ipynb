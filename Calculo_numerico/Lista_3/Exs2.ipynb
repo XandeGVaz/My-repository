{
 "cells": [
  {
   "cell_type": "markdown",
   "metadata": {},
   "source": [
    "# <font color='gren'> Exercício 2\n"
   ]
  },
  {
   "cell_type": "code",
   "execution_count": 1,
   "metadata": {},
   "outputs": [],
   "source": [
    "import numpy as np\n",
    "import matplotlib.pylab as plt"
   ]
  },
  {
   "cell_type": "markdown",
   "metadata": {},
   "source": [
    "## 1 - Funções auxiliares"
   ]
  },
  {
   "cell_type": "markdown",
   "metadata": {},
   "source": [
    "* Método de Jacobi : modificada para retornar número de interações"
   ]
  },
  {
   "cell_type": "code",
   "execution_count": 2,
   "metadata": {},
   "outputs": [],
   "source": [
    "\n",
    "\n",
    "def metod_jacobi(N,TL,TR,TB,TT,Nmax,tol):\n",
    "    \n",
    "    Told = np.zeros(shape=(N,N))\n",
    "    # Temperaturas nas bordas\n",
    "    Told[0,:] =TL\n",
    "    Told[N-1,:] =TR\n",
    "    Told[:,0] =TB\n",
    "    Told[:,N-1] =TT\n",
    "\n",
    "    # Loop de iteracoes\n",
    "    Tnew = Told.copy()\n",
    "    for iter in range(Nmax):\n",
    "        Tnew[1:N-1,1:N-1] = 0.25*(Told[2:N,1:N-1] + Told[0:N-2,1:N-1] + \\\n",
    "                                Told[1:N-1,2:N] + Told[1:N-1,0:N-2])\n",
    "        \n",
    "        error = np.linalg.norm(Tnew-Told)\n",
    "        #print(iter, '  ', error)\n",
    "        if(error < tol):\n",
    "            return iter\n",
    "            \n",
    "        Told = Tnew.copy()"
   ]
  },
  {
   "cell_type": "markdown",
   "metadata": {},
   "source": [
    "* Método de Gauss-Seidel: modificada para retornar número de interações"
   ]
  },
  {
   "cell_type": "code",
   "execution_count": 3,
   "metadata": {},
   "outputs": [],
   "source": [
    "def metod_gauss_seidel(N,TL,TR,TB,TT,Nmax,tol):\n",
    "\n",
    "    Told = np.zeros(shape=(N,N))\n",
    "\n",
    "    # Temperaturas nas bordas\n",
    "    Told[0,  :] = TL\n",
    "    Told[N-1,:] = TR\n",
    "    Told[:,  0] = TB\n",
    "    Told[:,N-1] = TT\n",
    "\n",
    "    # Loop de iteracoes\n",
    "    Tnew = Told.copy()\n",
    "    for iter in range(Nmax):\n",
    "        for i in range(1,N-1):\n",
    "            for j in range(1,N-1):\n",
    "                Tnew[i,j] = 0.25*(Told[i+1,j] + Tnew[i-1,j] +\\\n",
    "                                Told[i,j+1] + Tnew[i,j-1])\n",
    "        \n",
    "        error = np.linalg.norm(Tnew-Told)\n",
    "        #print(iter, '  ', error)\n",
    "        if(error < tol):\n",
    "            return iter\n",
    "            \n",
    "        Told = Tnew.copy()"
   ]
  },
  {
   "cell_type": "markdown",
   "metadata": {},
   "source": [
    "* Métodos de montagem explícita da matriz A"
   ]
  },
  {
   "cell_type": "code",
   "execution_count": 4,
   "metadata": {},
   "outputs": [],
   "source": [
    "# Função para converter indice (i,j) a indice global Ic\n",
    "def ij2n (i, j, N):\n",
    "    return i + j*N\n",
    "\n",
    "# Função para montar a matriz do sistema\n",
    "def MatAssembly(N):\n",
    "    nunk = N**2\n",
    "    A = np.zeros(shape=(nunk,nunk))\n",
    "    for i in range(1,N-1):\n",
    "        for j in range(1,N-1): \n",
    "            Ic = ij2n(i,   j,   N)\n",
    "            Ie = ij2n(i+1, j,   N)\n",
    "            Iw = ij2n(i-1, j,   N)\n",
    "            In = ij2n(i,   j+1, N)\n",
    "            Is = ij2n(i,   j-1, N)\n",
    "            A[Ic,[Ic,Ie,Iw,In,Is]] = [4.0, -1.0, -1.0, -1.0, -1.0]\n",
    "    return A"
   ]
  },
  {
   "cell_type": "markdown",
   "metadata": {},
   "source": [
    "* Função que coloca temperaturas de borda e monta o sistema"
   ]
  },
  {
   "cell_type": "code",
   "execution_count": 5,
   "metadata": {},
   "outputs": [],
   "source": [
    "# Função para modificar a matriz e incorporar as condições de borda\n",
    "def BuildSystem(N, TL, TR, TB, TT):\n",
    "    nunk = N**2\n",
    "    A = MatAssembly(N)\n",
    "    Atilde = A.copy()\n",
    "    b = np.zeros(shape=(nunk,1))\n",
    "    k = np.array(range(0,N))\n",
    "    Iden = np.identity(nunk)\n",
    "\n",
    "    Ic = ij2n(0,k,N)\n",
    "    Atilde[Ic,:], b[Ic] = Iden[Ic,:], TL # Tleft\n",
    "\n",
    "    Ic = ij2n(N-1,k,N)\n",
    "    Atilde[Ic,:], b[Ic] = Iden[Ic,:], TR # Tright\n",
    "\n",
    "    Ic = ij2n(k,0,N)\n",
    "    Atilde[Ic,:], b[Ic] = Iden[Ic,:], TB # Tbottom\n",
    "\n",
    "    Ic = ij2n(k,N-1,N)\n",
    "    Atilde[Ic,:], b[Ic] = Iden[Ic,:], TT # Ttop\n",
    "    \n",
    "    return Atilde, b\n"
   ]
  },
  {
   "cell_type": "markdown",
   "metadata": {},
   "source": [
    "* Plot de tabela"
   ]
  },
  {
   "cell_type": "code",
   "execution_count": 6,
   "metadata": {},
   "outputs": [],
   "source": [
    "def plot_table(relacao,colunas,linhas):\n",
    "    #define figure and axes\n",
    "    fig, ax = plt.subplots()\n",
    "\n",
    "    #hide the axes\n",
    "    fig.patch.set_visible(True)\n",
    "    ax.axis('off')\n",
    "    ax.axis('tight')\n",
    "    \n",
    "    #gera a tabela\n",
    "    plt.title('Relação entre o método de iteração usado e o número de iterações necessárias para atingir uma margem de tolerância de 10^(-5)')\n",
    "    table = ax.table(cellText=relacao, colLabels=colunas, rowLabels=linhas)\n",
    "\n",
    "    #display table\n",
    "    fig.tight_layout()\n",
    "    plt.show()"
   ]
  },
  {
   "cell_type": "markdown",
   "metadata": {},
   "source": [
    "## 2 - Método Iterativo"
   ]
  },
  {
   "cell_type": "code",
   "execution_count": 7,
   "metadata": {},
   "outputs": [],
   "source": [
    "def iterativ_metod_1(N,TL, TR, TB, TT,Nmax,tol):\n",
    "    A,b=BuildSystem(N,TL, TR, TB, TT)\n",
    "    M=np.zeros(shape=(N**2,N**2))\n",
    "    for i in range(0,N**2):\n",
    "        M[i][i]=A[i][i]\n",
    "    cold=b.copy() #primeiro chute para x é um vetor b\n",
    "    cnew=b.copy()    \n",
    "    r=A@cold-b\n",
    "    k=0\n",
    "    while(k<Nmax and np.linalg.norm(r)>tol):\n",
    "        d=np.linalg.solve(M,-r)\n",
    "        e=1\n",
    "        cnew=cold+(e*d)\n",
    "        r=A@cnew-b\n",
    "        cold=cnew.copy() #atualiza o chute \n",
    "        k=k+1\n",
    "    return k #retorma o número de interaçõies necessárias\n",
    "\n",
    "def iterativ_metod_2(N,TL, TR, TB, TT,Nmax,tol):\n",
    "    A,b=BuildSystem(N,TL, TR, TB, TT)\n",
    "    M=np.triu(A)\n",
    "    cold=b.copy()*0 #primeiro chute para x é um vetor b\n",
    "    cnew=b.copy()*0    \n",
    "    r=A@cold-b\n",
    "    k=0\n",
    "    while(k<Nmax and np.linalg.norm(r)>tol):\n",
    "        d=np.linalg.solve(M,-r)\n",
    "        e=1\n",
    "        cnew=cold+(e*d)\n",
    "        r=A@cnew-b\n",
    "        cold=cnew.copy() #atualiza o chute \n",
    "        k=k+1\n",
    "    return k #retorma o número de interaçõies necessárias\n",
    "        "
   ]
  },
  {
   "cell_type": "markdown",
   "metadata": {},
   "source": [
    "## 3 - Execução do programa"
   ]
  },
  {
   "cell_type": "code",
   "execution_count": 8,
   "metadata": {},
   "outputs": [
    {
     "data": {
      "image/png": "[encoded data removed]",
      "text/plain": [
       "<Figure size 640x480 with 1 Axes>"
      ]
     },
     "metadata": {},
     "output_type": "display_data"
    }
   ],
   "source": [
    "relacao=np.zeros(shape=(4,3))\n",
    "N=np.array(3)\n",
    "N=[11,21,41]\n",
    "for i in range (0,len(N)):\n",
    "    relacao[0][i]=metod_jacobi(N[i],0.0,0.0,0.0,20.0,10000,10**(-5))\n",
    "    relacao[1][i]=metod_jacobi(N[i],0.0,0.0,0.0,20.0,10000,10**(-5))\n",
    "    relacao[2][i]=iterativ_metod_1(N[i],0.0,0.0,0.0,20.0,10000,10**(-5))\n",
    "    relacao[3][i]=iterativ_metod_2(N[i],0.0,0.0,0.0,20.0,10000,10**(-5))\n",
    "colunas=np.array(['N=11','n=21','n=41'],dtype=str)\n",
    "linhas=np.array(['Jacobi(ex1)','Gauss-Seidel(ex1)','Jacobi(geral)','Gauss-Seidel(geral)'],dtype=str)\n",
    "plot_table(relacao,colunas,linhas)"
   ]
  }
 ],
 "metadata": {
  "kernelspec": {
   "display_name": "Python 3",
   "language": "python",
   "name": "python3"
  },
  "language_info": {
   "codemirror_mode": {
    "name": "ipython",
    "version": 3
   },
   "file_extension": ".py",
   "mimetype": "text/x-python",
   "name": "python",
   "nbconvert_exporter": "python",
   "pygments_lexer": "ipython3",
   "version": "3.10.12"
  }
 },
 "nbformat": 4,
 "nbformat_minor": 2
}
