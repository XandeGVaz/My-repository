{
 "cells": [
  {
   "cell_type": "markdown",
   "metadata": {},
   "source": [
    "# Exercício 6"
   ]
  },
  {
   "cell_type": "code",
   "execution_count": 65,
   "metadata": {},
   "outputs": [],
   "source": [
    "import numpy as np\n",
    "import matplotlib.pyplot as plt \n",
    "import time "
   ]
  },
  {
   "cell_type": "markdown",
   "metadata": {},
   "source": [
    "## Definição da rede\n"
   ]
  },
  {
   "cell_type": "markdown",
   "metadata": {},
   "source": [
    "### Função de definição da rede"
   ]
  },
  {
   "cell_type": "code",
   "execution_count": 66,
   "metadata": {},
   "outputs": [],
   "source": [
    "def GeraRede(nx,ny,CH,CV):\n",
    "    nv = nx*ny\n",
    "    nc = (nx-1)*ny + (ny-1)*nx\n",
    "    \n",
    "    conec = np.zeros(shape=(nc,2),dtype=np.int64)\n",
    "    C = np.zeros(nc)\n",
    "    \n",
    "    # Loop sobre canos horizontais\n",
    "    for j in range(ny):\n",
    "        for i in range(nx-1):\n",
    "          k = j*(nx-1) + i\n",
    "          conec[k,0] = j*nx + i\n",
    "          conec[k,1] = j*nx + i+1\n",
    "          C[k] = CH\n",
    "\n",
    "    # Loop sobre canos verticais\n",
    "    for i in range(nx):\n",
    "      for j in range(ny-1):\n",
    "          k = (nx-1)*ny + j*nx + i\n",
    "          conec[k,0] = i + j*nx\n",
    "          conec[k,1] = i + (j+1)*nx\n",
    "          C[k] = CV\n",
    "\n",
    "    return nv, nc, conec, C"
   ]
  },
  {
   "cell_type": "markdown",
   "metadata": {},
   "source": [
    "## Funções de plotagem da Pressão"
   ]
  },
  {
   "cell_type": "code",
   "execution_count": 67,
   "metadata": {},
   "outputs": [],
   "source": [
    "def PlotPressure(nx, ny, pressure):\n",
    "    x = np.arange(0, nx, 1)\n",
    "    y = np.arange(0, ny, 1)\n",
    "    X,Y=np.meshgrid(x,y)\n",
    "    Z = np.copy(pressure)\n",
    "    Z.shape = (ny,nx)\n",
    "    fig, ax = plt.subplots(figsize=(10,10))\n",
    "    ax.set_aspect('equal')\n",
    "    ax.set(xlabel='x', ylabel='y', title='Contours of pressure')\n",
    "    ax.grid()\n",
    "    ax.set_xticks(x)\n",
    "    ax.set_yticks(y)\n",
    "    cp = plt.contourf(X, Y, Z, cmap='jet')\n",
    "    cb = plt.colorbar(cp)\n",
    "    plt.show()\n",
    "\n",
    "def PlotPressureAsSurface(nx, ny, pressure):\n",
    "    x = np.arange(0, nx, 1)\n",
    "    y = np.arange(0, ny, 1)\n",
    "    X,Y=np.meshgrid(x,y)\n",
    "    Z = np.copy(pressure)\n",
    "    Z.shape = (ny,nx)\n",
    "    fig, ax = plt.subplots(figsize=(10,10))\n",
    "    ax.set_aspect('equal')\n",
    "    ax.set(xlabel='x', ylabel='y', title='Contours of pressure')\n",
    "    ax.grid()\n",
    "    ax.set_xticks(x)\n",
    "    ax.set_yticks(y)\n",
    "    ax = plt.axes(projection=\"3d\")\n",
    "    ax.plot_surface(X, Y, Z, cmap='jet', edgecolor=None)\n",
    "    ax.set(xlabel='$x$', ylabel='$y$', zlabel='$z$')\n",
    "    ax.view_init(elev=30., azim=45)\n",
    "    plt.show()"
   ]
  },
  {
   "cell_type": "markdown",
   "metadata": {},
   "source": [
    "## Funções Pŕevias"
   ]
  },
  {
   "cell_type": "markdown",
   "metadata": {},
   "source": [
    "### 1- Monta matriz conduc e matriz A"
   ]
  },
  {
   "cell_type": "code",
   "execution_count": 68,
   "metadata": {},
   "outputs": [],
   "source": [
    "def retorna_conduc(C):\n",
    "    tam=len(C)\n",
    "    conduc=np.zeros(shape=(tam,tam),dtype=np.float64)\n",
    "    for i in range(tam):\n",
    "        conduc[i][i]=C[i]\n",
    "    return conduc\n",
    "\n",
    "\n",
    "def retorna_matriz_A(conec,nc,nv,conduc):\n",
    "    #Inicia a matriz A que será retornada\n",
    "    A=np.zeros(shape=(nv,nv),dtype=np.float64)\n",
    "    \n",
    "    n1,n2=0,0\n",
    "\n",
    "    for i in range(nc): # percorre as linhas da matriz de conecções\n",
    "        \n",
    "        #recebimento dos nós da linha i da matriz de conecções\n",
    "        n1,n2=conec[i][0],conec[i][1]\n",
    "\n",
    "        # adição de elementos conforme a matriz ClocK\n",
    "        A[n1][n1]=A[n1][n1]+conduc[i][i]    \n",
    "        A[n1][n2]=A[n1][n2]-conduc[i][i]\n",
    "        A[n2][n1]=A[n2][n1]-conduc[i][i]\n",
    "        A[n2][n2]=A[n2][n2]+conduc[i][i]\n",
    "                        \n",
    "    \n",
    "    return A"
   ]
  },
  {
   "cell_type": "markdown",
   "metadata": {},
   "source": [
    "### 2-Função de formação da matriz Ã e matriz direita"
   ]
  },
  {
   "cell_type": "code",
   "execution_count": 69,
   "metadata": {},
   "outputs": [],
   "source": [
    "\n",
    "def retorna_matriz_Ã(A,natm):\n",
    "    rng=len(A[0])\n",
    "    Ã=A\n",
    "    for i in range(0,rng):\n",
    "        if(i==natm):\n",
    "            Ã[natm][i]=1\n",
    "        else:\n",
    "            Ã[natm][i]=0\n",
    "    return Ã\n",
    "\n",
    "def retorna_matriz_direita(nv,nB,QB):\n",
    "    d=np.zeros(nv,dtype=np.float64)\n",
    "    for i in range(0,nv):\n",
    "        if(i==nB): d[i]=QB\n",
    "        else: d[i]=0\n",
    "    return d\n",
    "\n"
   ]
  },
  {
   "cell_type": "markdown",
   "metadata": {},
   "source": [
    "### 3-Função de resolução do sistema e de vazões nodais"
   ]
  },
  {
   "cell_type": "code",
   "execution_count": 70,
   "metadata": {},
   "outputs": [],
   "source": [
    "def retorna_pressoes(Ã,d):\n",
    "    #Obtém a matriz Inversa da matriz Ã\n",
    "    I=np.linalg.inv(Ã)\n",
    "\n",
    "    #Obtém vetor de pressões\n",
    "    P=I@d\n",
    "    return P\n",
    "\n",
    "def vetor_vazoes_nodos(A,P):\n",
    "    Q=A@P\n",
    "    return Q"
   ]
  },
  {
   "cell_type": "markdown",
   "metadata": {},
   "source": [
    "### 4-Obtenção do vetor de vazões nos canos e da potência da bomba"
   ]
  },
  {
   "cell_type": "code",
   "execution_count": 71,
   "metadata": {},
   "outputs": [],
   "source": [
    "def retorna_vazoes_canos(conduc,D,P):\n",
    "    Qc=conduc@D@P\n",
    "    W=(Qc.transpose())@(D@P)\n",
    "    return Qc,W"
   ]
  },
  {
   "cell_type": "markdown",
   "metadata": {},
   "source": [
    "### 5-Obtenção da matriz D "
   ]
  },
  {
   "cell_type": "code",
   "execution_count": 72,
   "metadata": {},
   "outputs": [],
   "source": [
    "def retorna_matriz_D(nc,nv,conec):\n",
    "    l=nc\n",
    "    c=nv\n",
    "    D=np.zeros(shape=(l,c),dtype=np.float64)\n",
    "    for i in range(l):\n",
    "        n1,n2=conec[i][0],conec[i][1]\n",
    "        D[i][n1]=1\n",
    "        D[i][n2]=-1\n",
    "    return D"
   ]
  },
  {
   "cell_type": "markdown",
   "metadata": {},
   "source": [
    "### 6-Resolve o sistema"
   ]
  },
  {
   "cell_type": "code",
   "execution_count": 73,
   "metadata": {},
   "outputs": [],
   "source": [
    "def resolve_sistema(natm,nB,QB,nv,nc,conec,conduc):\n",
    "    A=retorna_matriz_A(conec,nc,nv,conduc)\n",
    "    Ã=retorna_matriz_Ã(A,natm)\n",
    "    d=retorna_matriz_direita(nv,nB,QB)\n",
    "    P=retorna_pressoes(Ã,d)\n",
    "    return P\n",
    "   "
   ]
  },
  {
   "cell_type": "markdown",
   "metadata": {},
   "source": [
    "## Análise de tempos de resolução em função de Nv=m*n"
   ]
  },
  {
   "cell_type": "code",
   "execution_count": 74,
   "metadata": {},
   "outputs": [
    {
     "data": {
      "image/png": "[encoded data removed]",
      "text/plain": [
       "<Figure size 640x480 with 1 Axes>"
      ]
     },
     "metadata": {},
     "output_type": "display_data"
    }
   ],
   "source": [
    "#   Pré-setagem\n",
    "CH=1.3\n",
    "CV=3.6\n",
    "nB=0\n",
    "QB=3\n",
    "\n",
    "#   Função que calcula o tempo de processamento de resolução do sistema\n",
    "def tempo_de_processo(natm,nB,QB,nv,nc,conec,C):\n",
    "    conduc=retorna_conduc(C)\n",
    "    ti=time.time()\n",
    "    P=resolve_sistema(natm,nB,QB,nv,nc,conec,conduc)\n",
    "    tf=time.time()-ti\n",
    "    return tf\n",
    "\n",
    "#   Vetor com os índices m e n (nx e ny) referentes a rede grade\n",
    "indices=np.linspace(1,10,10,dtype=np.int64)*10\n",
    "\n",
    "#   Vetores de plotagem\n",
    "x=indices**2\n",
    "y=np.array([],dtype=np.float64)\n",
    "\n",
    "#   Laço cujo indice i indica qual elemento do vetor indice ocupará a posição de m e n na função\n",
    "#de cálculo do tempo de resolução do sistema relacionado à rede\n",
    "for i in range (0,len(indices)):\n",
    "    nv, nc, conec, C = GeraRede(indices[i],indices[i],CH,CV)\n",
    "    y=np.append(y,tempo_de_processo((indices[i]**2)-1, nB, QB, nv, nc, conec, C))\n",
    " \n",
    "\n",
    "plt.loglog(x,y)\n",
    "plt.grid()\n",
    "plt.title('Gráfico de tempos em função do número de nós')\n",
    "plt.xlabel('nV')\n",
    "plt.ylabel('t[s]')\n",
    "plt.show()\n",
    "\n",
    "    \n",
    "\n"
   ]
  },
  {
   "cell_type": "markdown",
   "metadata": {},
   "source": [
    "## "
   ]
  }
 ],
 "metadata": {
  "kernelspec": {
   "display_name": "Python 3",
   "language": "python",
   "name": "python3"
  },
  "language_info": {
   "codemirror_mode": {
    "name": "ipython",
    "version": 3
   },
   "file_extension": ".py",
   "mimetype": "text/x-python",
   "name": "python",
   "nbconvert_exporter": "python",
   "pygments_lexer": "ipython3",
   "version": "3.10.12"
  }
 },
 "nbformat": 4,
 "nbformat_minor": 2
}
