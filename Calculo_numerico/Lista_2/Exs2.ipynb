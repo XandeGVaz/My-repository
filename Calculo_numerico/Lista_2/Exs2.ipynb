{
 "cells": [
  {
   "cell_type": "markdown",
   "metadata": {},
   "source": [
    "# Exercício 2"
   ]
  },
  {
   "cell_type": "markdown",
   "metadata": {},
   "source": [
    "## Entradas\n"
   ]
  },
  {
   "cell_type": "code",
   "execution_count": 3,
   "metadata": {},
   "outputs": [],
   "source": [
    "import numpy as np\n",
    "\n",
    "#* OBS: Valores conforme figura 2.3 e tabela de exemplo numérico do pdf\n",
    "\n",
    "#Iniciação e definição do numero de nós e canos\n",
    "nv=5\n",
    "nc=7\n",
    "nB=1\n",
    "QB=3\n",
    "natm=3\n",
    "\n",
    "#Iniciação e definição de matriz de conecções e a de condutâncias\n",
    "conec=np.zeros(shape=(nc,2),dtype=int)\n",
    "conduc=np.zeros(shape=(nc,nc))\n",
    "conduc[0][0],conduc[1][1],conduc[2][2],conduc[3][3],conduc[4][4],conduc[5][5],conduc[6][6]=2,2,1,2,1,2,2\n",
    "conec=[[1,2],[2,3],[3,4],[4,5],[5,2],[5,3],[5,1]]"
   ]
  },
  {
   "cell_type": "markdown",
   "metadata": {},
   "source": [
    "## Monta matriz A"
   ]
  },
  {
   "cell_type": "code",
   "execution_count": 4,
   "metadata": {},
   "outputs": [],
   "source": [
    "def retorna_matriz_A(conec,nc,nv,conduc):\n",
    "    #Inicia a matriz A que será retornada\n",
    "    A=np.zeros(shape=(nv,nv),dtype=np.float64)\n",
    "    \n",
    "    n1,n2=0,0\n",
    "\n",
    "    for i in range(nc): # percorre as linhas da matriz de conecções\n",
    "        \n",
    "        #recebimento dos nós da linha i da matriz de conecções\n",
    "        n1,n2=conec[i][0],conec[i][1]\n",
    "\n",
    "        # adição de elementos conforme a matriz ClocK\n",
    "        A[n1-1][n1-1]=A[n1-1][n1-1]+conduc[i][i]    \n",
    "        A[n1-1][n2-1]=A[n1-1][n2-1]-conduc[i][i]\n",
    "        A[n2-1][n1-1]=A[n2-1][n1-1]-conduc[i][i]\n",
    "        A[n2-1][n2-1]=A[n2-1][n2-1]+conduc[i][i]\n",
    "                        \n",
    "    \n",
    "    return A"
   ]
  },
  {
   "cell_type": "markdown",
   "metadata": {},
   "source": [
    "## Função de formação da matriz Ã,direita(D)"
   ]
  },
  {
   "cell_type": "code",
   "execution_count": 5,
   "metadata": {},
   "outputs": [],
   "source": [
    "\n",
    "def retorna_matriz_Ã(A,natm):\n",
    "    rng=len(A[0])\n",
    "    Ã=A\n",
    "    for i in range(0,rng):\n",
    "        if(i==natm-1):\n",
    "            Ã[natm-1][i]=1\n",
    "        else:\n",
    "            Ã[natm-1][i]=0\n",
    "    return Ã\n",
    "\n",
    "def retorna_matriz_direita(A,nB,QB):\n",
    "    rng=len(A[0])\n",
    "    D=np.zeros(rng,dtype=np.float64)\n",
    "    for i in range(0,rng):\n",
    "        if(i==nB-1): D[i]=QB\n",
    "        else: D[i]=0\n",
    "    return D\n",
    "\n"
   ]
  },
  {
   "cell_type": "markdown",
   "metadata": {},
   "source": [
    "## Resolução do sistema"
   ]
  },
  {
   "cell_type": "code",
   "execution_count": 7,
   "metadata": {},
   "outputs": [
    {
     "name": "stdout",
     "output_type": "stream",
     "text": [
      "\n",
      "A= [[ 4. -2.  0.  0. -2.]\n",
      " [-2.  5. -2.  0. -1.]\n",
      " [ 0. -2.  5. -1. -2.]\n",
      " [ 0.  0. -1.  3. -2.]\n",
      " [-2. -1. -2. -2.  7.]]\n",
      "\n",
      "Ã= [[ 4. -2.  0.  0. -2.]\n",
      " [-2.  5. -2.  0. -1.]\n",
      " [ 0.  0.  1.  0.  0.]\n",
      " [ 0.  0. -1.  3. -2.]\n",
      " [-2. -1. -2. -2.  7.]]\n",
      "\n",
      "D= [3. 0. 0. 0. 0.]\n",
      "\n",
      "P= [1.39772727e+00 6.81818182e-01 1.11022302e-16 4.09090909e-01\n",
      " 6.13636364e-01]\n",
      "\n",
      "Q= [ 3.00000000e+00  4.44089210e-16  1.11022302e-16  0.00000000e+00\n",
      " -4.44089210e-16]\n"
     ]
    }
   ],
   "source": [
    "def resolve_sistema(Ã,D):\n",
    "    #Obtém a matriz Inversa da matriz Ã\n",
    "    I=np.linalg.inv(Ã)\n",
    "\n",
    "    #Obtém vetor de pressões\n",
    "    P=I@D\n",
    "    return P\n",
    "\n",
    "def vetor_vazoes_nodos(A,P):\n",
    "    Q=A@P\n",
    "    return Q\n",
    "\n",
    "A=retorna_matriz_A(conec,nc,nv,conduc)\n",
    "\n",
    "Ã=retorna_matriz_Ã(A,natm)\n",
    "\n",
    "D=retorna_matriz_direita(A,nB,QB)\n",
    "\n",
    "P=resolve_sistema(Ã,D)\n",
    "\n",
    "Q=vetor_vazoes_nodos(A,P)\n",
    "\n",
    "A=retorna_matriz_A(conec,nc,nv,conduc)\n",
    "print('\\nA=',A)\n",
    "Ã=retorna_matriz_Ã(A,natm)\n",
    "print('\\nÃ=',Ã)\n",
    "D=retorna_matriz_direita(A,nB,QB)\n",
    "print('\\nD=',D)\n",
    "P=resolve_sistema(Ã,D)\n",
    "print('\\nP=',P)\n",
    "Q=vetor_vazoes_nodos(A,P)\n",
    "print('\\nQ=',Q)"
   ]
  },
  {
   "cell_type": "markdown",
   "metadata": {},
   "source": [
    "## "
   ]
  }
 ],
 "metadata": {
  "kernelspec": {
   "display_name": "Python 3",
   "language": "python",
   "name": "python3"
  },
  "language_info": {
   "codemirror_mode": {
    "name": "ipython",
    "version": 3
   },
   "file_extension": ".py",
   "mimetype": "text/x-python",
   "name": "python",
   "nbconvert_exporter": "python",
   "pygments_lexer": "ipython3",
   "version": "3.10.12"
  }
 },
 "nbformat": 4,
 "nbformat_minor": 2
}
