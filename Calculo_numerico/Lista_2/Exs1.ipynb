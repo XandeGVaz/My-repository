{
 "cells": [
  {
   "cell_type": "markdown",
   "metadata": {},
   "source": [
    "# Exercício 1"
   ]
  },
  {
   "cell_type": "markdown",
   "metadata": {},
   "source": [
    "## n2das"
   ]
  },
  {
   "cell_type": "code",
   "execution_count": 1,
   "metadata": {},
   "outputs": [],
   "source": [
    "import numpy as np\n",
    "\n",
    "#* OBS: Valores conforme figura 2.3 e tabela de exemplo numérico do pdf\n",
    "\n",
    "#Iniciação e definição do numero de nós e canos\n",
    "nv=5\n",
    "nc=7\n",
    "\n",
    "#Iniciação e definição de matriz de conecções e a de condutâncias\n",
    "conec=np.zeros(shape=(nc,2),dtype=int)\n",
    "conduc=np.zeros(shape=(nc,nc))\n",
    "conduc[0][0],conduc[1][1],conduc[2][2],conduc[3][3],conduc[4][4],conduc[5][5],conduc[6][6]=2,2,1,2,1,2,2\n",
    "conec=[[1,2],[2,3],[3,4],[4,5],[5,2],[5,3],[5,1]]"
   ]
  },
  {
   "cell_type": "markdown",
   "metadata": {},
   "source": [
    "## Método 1"
   ]
  },
  {
   "cell_type": "code",
   "execution_count": 2,
   "metadata": {},
   "outputs": [
    {
     "name": "stdout",
     "output_type": "stream",
     "text": [
      "[[ 4. -2.  0.  0. -2.]\n",
      " [-2.  5. -2.  0. -1.]\n",
      " [ 0. -2.  5. -1. -2.]\n",
      " [ 0.  0. -1.  3. -2.]\n",
      " [-2. -1. -2. -2.  7.]]\n"
     ]
    }
   ],
   "source": [
    "def fazer_matriz_A_1(conec,nc,nv,conduc):\n",
    "    #Inicia a matriz A que será retornada\n",
    "    A=np.zeros(shape=(nv,nv))\n",
    "\n",
    "    for i in range(nc): # percorre as linhas da matriz de conecções\n",
    "        for j in range(nv): # percorre as linhas da matriz A\n",
    "            for k in range(nv):\n",
    "                if(j+1==conec[i][0]): #se a linha corresponder ap nó de n1da \n",
    "                    if(k+1==conec[i][1]): # e se a coluna corresponder ao nó de n2da\n",
    "                        \n",
    "                        # adição de elementos conforme a matriz ClocK\n",
    "                        A[j][j]=A[j][j]+conduc[i][i]\n",
    "                        A[j][k]=A[j][k]-conduc[i][i]\n",
    "                        A[k][j]=A[k][j]-conduc[i][i]\n",
    "                        A[k][k]=A[k][k]+conduc[i][i]\n",
    "    \n",
    "    return A\n",
    "\n",
    "print(fazer_matriz_A_1(conec,nc,nv,conduc))"
   ]
  },
  {
   "cell_type": "markdown",
   "metadata": {},
   "source": [
    "## Método 2"
   ]
  },
  {
   "cell_type": "code",
   "execution_count": 3,
   "metadata": {},
   "outputs": [
    {
     "name": "stdout",
     "output_type": "stream",
     "text": [
      "[[ 4. -2.  0.  0. -2.]\n",
      " [-2.  5. -2.  0. -1.]\n",
      " [ 0. -2.  5. -1. -2.]\n",
      " [ 0.  0. -1.  3. -2.]\n",
      " [-2. -1. -2. -2.  7.]]\n"
     ]
    }
   ],
   "source": [
    "def fazer_matriz_A_2(conec,nc,nv,conduc):\n",
    "    #Inicia a matriz A que será retornada\n",
    "    A=np.zeros(shape=(nv,nv))\n",
    "    \n",
    "    n1,n2=0,0\n",
    "\n",
    "    for i in range(nc): # percorre as linhas da matriz de conecções\n",
    "        \n",
    "        #recebimento dos nós da linha i da matriz de conecções\n",
    "        n1,n2=conec[i][0],conec[i][1]\n",
    "\n",
    "        # adição de elementos conforme a matriz ClocK\n",
    "        A[n1-1][n1-1]=A[n1-1][n1-1]+conduc[i][i]    \n",
    "        A[n1-1][n2-1]=A[n1-1][n2-1]-conduc[i][i]\n",
    "        A[n2-1][n1-1]=A[n2-1][n1-1]-conduc[i][i]\n",
    "        A[n2-1][n2-1]=A[n2-1][n2-1]+conduc[i][i]\n",
    "                        \n",
    "    \n",
    "    return A\n",
    "\n",
    "print(fazer_matriz_A_2(conec,nc,nv,conduc))"
   ]
  }
 ],
 "metadata": {
  "kernelspec": {
   "display_name": "Python 3",
   "language": "python",
   "name": "python3"
  },
  "language_info": {
   "codemirror_mode": {
    "name": "ipython",
    "version": 3
   },
   "file_extension": ".py",
   "mimetype": "text/x-python",
   "name": "python",
   "nbconvert_exporter": "python",
   "pygments_lexer": "ipython3",
   "version": "3.10.12"
  }
 },
 "nbformat": 4,
 "nbformat_minor": 2
}
